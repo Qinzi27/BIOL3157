{
 "cells": [
  {
   "cell_type": "markdown",
   "metadata": {},
   "source": [
    "# Display a Phylogenetic Tree Showing Bootstrap Support\n",
    "\n",
    "We use a tree saved in `json` format from a 100 replicate bootstrap resamplings. The `show_support=True` argument controls whether or not to display support. The `threshold=0.8` argument indicates only nodes with a support level ≤0.8 will have support text displayed."
   ]
  },
  {
   "cell_type": "code",
   "execution_count": 1,
   "metadata": {},
   "outputs": [
    {
     "data": {
      "text/html": [
       "        <script type=\"text/javascript\">\n",
       "        window.PlotlyConfig = {MathJaxConfig: 'local'};\n",
       "        if (window.MathJax) {MathJax.Hub.Config({SVG: {font: \"STIX-Web\"}});}\n",
       "        if (typeof require !== 'undefined') {\n",
       "        require.undef(\"plotly\");\n",
       "        requirejs.config({\n",
       "            paths: {\n",
       "                'plotly': ['https://cdn.plot.ly/plotly-latest.min']\n",
       "            }\n",
       "        });\n",
       "        require(['plotly'], function(Plotly) {\n",
       "            window._Plotly = Plotly;\n",
       "        });\n",
       "        }\n",
       "        </script>\n",
       "        "
      ]
     },
     "metadata": {},
     "output_type": "display_data"
    },
    {
     "data": {
      "application/vnd.plotly.v1+json": {
       "config": {
        "plotlyServerURL": "https://plot.ly"
       },
       "data": [
        {
         "line": {
          "color": "black",
          "shape": "spline",
          "smoothing": 1.3,
          "width": 1.25
         },
         "mode": "lines",
         "showlegend": false,
         "type": "scatter",
         "x": [
          null,
          null,
          0,
          0,
          null,
          0,
          0.0016635914678559442,
          null,
          0.0016635914678559442,
          0.0016635914678559442,
          null,
          0.0016635914678559442,
          0.005369545277741107,
          null,
          0.005369545277741107,
          0.005369545277741107,
          null,
          0.005369545277741107,
          0.031153370343094598,
          null,
          0.031153370343094598,
          0.031153370343094598,
          null,
          0.031153370343094598,
          0.08631195081779765,
          null,
          0.031153370343094598,
          0.031153370343094598,
          null,
          0.031153370343094598,
          0.11372226606590709,
          null,
          0.005369545277741107,
          0.005369545277741107,
          null,
          0.005369545277741107,
          0.07956551945410295,
          null,
          0.0016635914678559442,
          0.0016635914678559442,
          null,
          0.0016635914678559442,
          0.014656744829611266,
          null,
          0.014656744829611266,
          0.014656744829611266,
          null,
          0.014656744829611266,
          0.048499823687140065,
          null,
          0.014656744829611266,
          0.014656744829611266,
          null,
          0.014656744829611266,
          0.058183439825163115,
          null,
          0,
          0,
          null,
          0,
          0.001987169996462769,
          null,
          0.001987169996462769,
          0.001987169996462769,
          null,
          0.001987169996462769,
          0.02054537383090987,
          null,
          0.02054537383090987,
          0.02054537383090987,
          null,
          0.02054537383090987,
          0.025261259625981795,
          null,
          0.025261259625981795,
          0.025261259625981795,
          null,
          0.025261259625981795,
          0.0333020198570895,
          null,
          0.0333020198570895,
          0.0333020198570895,
          null,
          0.0333020198570895,
          0.03681450578997773,
          null,
          0.03681450578997773,
          0.03681450578997773,
          null,
          0.03681450578997773,
          0.059591157700027056,
          null,
          0.059591157700027056,
          0.059591157700027056,
          null,
          0.059591157700027056,
          0.07066369595496988,
          null,
          0.059591157700027056,
          0.059591157700027056,
          null,
          0.059591157700027056,
          0.07465626505796832,
          null,
          0.03681450578997773,
          0.03681450578997773,
          null,
          0.03681450578997773,
          0.08741296114249245,
          null,
          0.0333020198570895,
          0.0333020198570895,
          null,
          0.0333020198570895,
          0.11702881314270744,
          null,
          0.025261259625981795,
          0.025261259625981795,
          null,
          0.025261259625981795,
          0.09953929051305313,
          null,
          0.02054537383090987,
          0.02054537383090987,
          null,
          0.02054537383090987,
          0.07899050274522948,
          null,
          0.001987169996462769,
          0.001987169996462769,
          null,
          0.001987169996462769,
          0.12245874195312466,
          null,
          0,
          0,
          null,
          0,
          0.011357615613402238,
          null,
          0.011357615613402238,
          0.011357615613402238,
          null,
          0.011357615613402238,
          0.014781839705895783,
          null,
          0.014781839705895783,
          0.014781839705895783,
          null,
          0.014781839705895783,
          0.025442025128467643,
          null,
          0.025442025128467643,
          0.025442025128467643,
          null,
          0.025442025128467643,
          0.030395867088245262,
          null,
          0.030395867088245262,
          0.030395867088245262,
          null,
          0.030395867088245262,
          0.08717485111392888,
          null,
          0.030395867088245262,
          0.030395867088245262,
          null,
          0.030395867088245262,
          0.20906726393108255,
          null,
          0.025442025128467643,
          0.025442025128467643,
          null,
          0.025442025128467643,
          0.034272101380184446,
          null,
          0.034272101380184446,
          0.034272101380184446,
          null,
          0.034272101380184446,
          0.07334674212490472,
          null,
          0.034272101380184446,
          0.034272101380184446,
          null,
          0.034272101380184446,
          0.0873227799527246,
          null,
          0.014781839705895783,
          0.014781839705895783,
          null,
          0.014781839705895783,
          0.06090021381372198,
          null,
          0.06090021381372198,
          0.06090021381372198,
          null,
          0.06090021381372198,
          0.07887378276114326,
          null,
          0.06090021381372198,
          0.06090021381372198,
          null,
          0.06090021381372198,
          0.09681516616874367,
          null,
          0.011357615613402238,
          0.011357615613402238,
          null,
          0.011357615613402238,
          0.017892621141320973,
          null,
          0.017892621141320973,
          0.017892621141320973,
          null,
          0.017892621141320973,
          0.0766458813943752,
          null,
          0.017892621141320973,
          0.017892621141320973,
          null,
          0.017892621141320973,
          0.08547259739006041,
          null
         ],
         "y": [
          null,
          null,
          -0.6703125000000001,
          9.2625,
          null,
          9.2625,
          9.2625,
          null,
          9.2625,
          10.725,
          null,
          10.725,
          10.725,
          null,
          10.725,
          11.7,
          null,
          11.7,
          11.7,
          null,
          11.7,
          12.35,
          null,
          12.35,
          12.35,
          null,
          11.7,
          11.05,
          null,
          11.05,
          11.05,
          null,
          10.725,
          9.75,
          null,
          9.75,
          9.75,
          null,
          9.2625,
          7.800000000000001,
          null,
          7.800000000000001,
          7.800000000000001,
          null,
          7.800000000000001,
          8.450000000000001,
          null,
          8.450000000000001,
          8.450000000000001,
          null,
          7.800000000000001,
          7.15,
          null,
          7.15,
          7.15,
          null,
          -0.6703125000000001,
          -0.6703125000000001,
          null,
          -0.6703125000000001,
          -0.6703125000000001,
          null,
          -0.6703125000000001,
          0.609375,
          null,
          0.609375,
          0.609375,
          null,
          0.609375,
          1.86875,
          null,
          1.86875,
          1.86875,
          null,
          1.86875,
          3.0875,
          null,
          3.0875,
          3.0875,
          null,
          3.0875,
          4.225,
          null,
          4.225,
          4.225,
          null,
          4.225,
          5.2,
          null,
          5.2,
          5.2,
          null,
          5.2,
          5.8500000000000005,
          null,
          5.8500000000000005,
          5.8500000000000005,
          null,
          5.2,
          4.55,
          null,
          4.55,
          4.55,
          null,
          4.225,
          3.25,
          null,
          3.25,
          3.25,
          null,
          3.0875,
          1.9500000000000002,
          null,
          1.9500000000000002,
          1.9500000000000002,
          null,
          1.86875,
          0.65,
          null,
          0.65,
          0.65,
          null,
          0.609375,
          -0.65,
          null,
          -0.65,
          -0.65,
          null,
          -0.6703125000000001,
          -1.9500000000000002,
          null,
          -1.9500000000000002,
          -1.9500000000000002,
          null,
          -0.6703125000000001,
          -9.425,
          null,
          -9.425,
          -9.425,
          null,
          -9.425,
          -7.15,
          null,
          -7.15,
          -7.15,
          null,
          -7.15,
          -5.2,
          null,
          -5.2,
          -5.2,
          null,
          -5.2,
          -3.9,
          null,
          -3.9,
          -3.9,
          null,
          -3.9,
          -3.25,
          null,
          -3.25,
          -3.25,
          null,
          -3.9,
          -4.55,
          null,
          -4.55,
          -4.55,
          null,
          -5.2,
          -6.5,
          null,
          -6.5,
          -6.5,
          null,
          -6.5,
          -5.8500000000000005,
          null,
          -5.8500000000000005,
          -5.8500000000000005,
          null,
          -6.5,
          -7.15,
          null,
          -7.15,
          -7.15,
          null,
          -7.15,
          -9.100000000000001,
          null,
          -9.100000000000001,
          -9.100000000000001,
          null,
          -9.100000000000001,
          -8.450000000000001,
          null,
          -8.450000000000001,
          -8.450000000000001,
          null,
          -9.100000000000001,
          -9.75,
          null,
          -9.75,
          -9.75,
          null,
          -9.425,
          -11.7,
          null,
          -11.7,
          -11.7,
          null,
          -11.7,
          -11.05,
          null,
          -11.05,
          -11.05,
          null,
          -11.7,
          -12.35,
          null,
          -12.35,
          -12.35,
          null
         ]
        },
        {
         "hoverinfo": "text",
         "marker": {
          "color": "black",
          "size": 3,
          "symbol": "circle"
         },
         "mode": "markers",
         "showlegend": false,
         "text": [
          "root",
          "edge.16",
          "edge.14",
          "edge.6",
          "Cat",
          "Dog",
          "Pangolin",
          "edge.7",
          "Rhino",
          "Horse",
          "edge.15",
          "edge.2",
          "edge.10",
          "edge.1",
          "edge.13",
          "edge.0",
          "HumpbackW",
          "SpermWhale",
          "Hippo",
          "Cow",
          "Pig",
          "Llama",
          "Mole",
          "edge.5",
          "edge.11",
          "edge.3",
          "edge.12",
          "TombBat",
          "RoundEare",
          "edge.9",
          "FreeTaile",
          "LittleBro",
          "edge.4",
          "FlyingFox",
          "DogFaced",
          "edge.8",
          "LeafNose",
          "FalseVamp"
         ],
         "type": "scatter",
         "x": [
          0,
          0.0016635914678559442,
          0.005369545277741107,
          0.031153370343094598,
          0.08631195081779765,
          0.11372226606590709,
          0.07956551945410295,
          0.014656744829611266,
          0.048499823687140065,
          0.058183439825163115,
          0.001987169996462769,
          0.02054537383090987,
          0.025261259625981795,
          0.0333020198570895,
          0.03681450578997773,
          0.059591157700027056,
          0.07066369595496988,
          0.07465626505796832,
          0.08741296114249245,
          0.11702881314270744,
          0.09953929051305313,
          0.07899050274522948,
          0.12245874195312466,
          0.011357615613402238,
          0.014781839705895783,
          0.025442025128467643,
          0.030395867088245262,
          0.08717485111392888,
          0.20906726393108255,
          0.034272101380184446,
          0.07334674212490472,
          0.0873227799527246,
          0.06090021381372198,
          0.07887378276114326,
          0.09681516616874367,
          0.017892621141320973,
          0.0766458813943752,
          0.08547259739006041
         ],
         "y": [
          -0.6703125000000001,
          9.2625,
          10.725,
          11.7,
          12.35,
          11.05,
          9.75,
          7.800000000000001,
          8.450000000000001,
          7.15,
          -0.6703125000000001,
          0.609375,
          1.86875,
          3.0875,
          4.225,
          5.2,
          5.8500000000000005,
          4.55,
          3.25,
          1.9500000000000002,
          0.65,
          -0.65,
          -1.9500000000000002,
          -9.425,
          -7.15,
          -5.2,
          -3.9,
          -3.25,
          -4.55,
          -6.5,
          -5.8500000000000005,
          -7.15,
          -9.100000000000001,
          -8.450000000000001,
          -9.75,
          -11.7,
          -11.05,
          -12.35
         ]
        }
       ],
       "layout": {
        "annotations": [
         {
          "font": {
           "family": "Inconsolata, monospace",
           "size": 12
          },
          "showarrow": false,
          "text": "Cat",
          "textangle": 0,
          "x": 0.09153863241607471,
          "xanchor": "left",
          "xref": "x",
          "y": 12.35,
          "yref": "y"
         },
         {
          "font": {
           "family": "Inconsolata, monospace",
           "size": 12
          },
          "showarrow": false,
          "text": "Dog",
          "textangle": 0,
          "x": 0.11894894766418415,
          "xanchor": "left",
          "xref": "x",
          "y": 11.05,
          "yref": "y"
         },
         {
          "font": {
           "family": "Inconsolata, monospace",
           "size": 12
          },
          "showarrow": false,
          "text": "Pangolin",
          "textangle": 0,
          "x": 0.08479220105238001,
          "xanchor": "left",
          "xref": "x",
          "y": 9.75,
          "yref": "y"
         },
         {
          "font": {
           "family": "Inconsolata, monospace",
           "size": 12
          },
          "showarrow": false,
          "text": "Rhino",
          "textangle": 0,
          "x": 0.05372650528541713,
          "xanchor": "left",
          "xref": "x",
          "y": 8.450000000000001,
          "yref": "y"
         },
         {
          "font": {
           "family": "Inconsolata, monospace",
           "size": 12
          },
          "showarrow": false,
          "text": "Horse",
          "textangle": 0,
          "x": 0.06341012142344019,
          "xanchor": "left",
          "xref": "x",
          "y": 7.15,
          "yref": "y"
         },
         {
          "font": {
           "family": "Inconsolata, monospace",
           "size": 12
          },
          "showarrow": false,
          "text": "HumpbackW",
          "textangle": 0,
          "x": 0.07589037755324694,
          "xanchor": "left",
          "xref": "x",
          "y": 5.8500000000000005,
          "yref": "y"
         },
         {
          "font": {
           "family": "Inconsolata, monospace",
           "size": 12
          },
          "showarrow": false,
          "text": "SpermWhale",
          "textangle": 0,
          "x": 0.07988294665624539,
          "xanchor": "left",
          "xref": "x",
          "y": 4.55,
          "yref": "y"
         },
         {
          "font": {
           "family": "Inconsolata, monospace",
           "size": 12
          },
          "showarrow": false,
          "text": "Hippo",
          "textangle": 0,
          "x": 0.09263964274076951,
          "xanchor": "left",
          "xref": "x",
          "y": 3.25,
          "yref": "y"
         },
         {
          "font": {
           "family": "Inconsolata, monospace",
           "size": 12
          },
          "showarrow": false,
          "text": "Cow",
          "textangle": 0,
          "x": 0.1222554947409845,
          "xanchor": "left",
          "xref": "x",
          "y": 1.9500000000000002,
          "yref": "y"
         },
         {
          "font": {
           "family": "Inconsolata, monospace",
           "size": 12
          },
          "showarrow": false,
          "text": "Pig",
          "textangle": 0,
          "x": 0.1047659721113302,
          "xanchor": "left",
          "xref": "x",
          "y": 0.65,
          "yref": "y"
         },
         {
          "font": {
           "family": "Inconsolata, monospace",
           "size": 12
          },
          "showarrow": false,
          "text": "Llama",
          "textangle": 0,
          "x": 0.08421718434350654,
          "xanchor": "left",
          "xref": "x",
          "y": -0.65,
          "yref": "y"
         },
         {
          "font": {
           "family": "Inconsolata, monospace",
           "size": 12
          },
          "showarrow": false,
          "text": "Mole",
          "textangle": 0,
          "x": 0.12768542355140172,
          "xanchor": "left",
          "xref": "x",
          "y": -1.9500000000000002,
          "yref": "y"
         },
         {
          "font": {
           "family": "Inconsolata, monospace",
           "size": 12
          },
          "showarrow": false,
          "text": "TombBat",
          "textangle": 0,
          "x": 0.09240153271220594,
          "xanchor": "left",
          "xref": "x",
          "y": -3.25,
          "yref": "y"
         },
         {
          "font": {
           "family": "Inconsolata, monospace",
           "size": 12
          },
          "showarrow": false,
          "text": "RoundEare",
          "textangle": 0,
          "x": 0.2142939455293596,
          "xanchor": "left",
          "xref": "x",
          "y": -4.55,
          "yref": "y"
         },
         {
          "font": {
           "family": "Inconsolata, monospace",
           "size": 12
          },
          "showarrow": false,
          "text": "FreeTaile",
          "textangle": 0,
          "x": 0.07857342372318178,
          "xanchor": "left",
          "xref": "x",
          "y": -5.8500000000000005,
          "yref": "y"
         },
         {
          "font": {
           "family": "Inconsolata, monospace",
           "size": 12
          },
          "showarrow": false,
          "text": "LittleBro",
          "textangle": 0,
          "x": 0.09254946155100166,
          "xanchor": "left",
          "xref": "x",
          "y": -7.15,
          "yref": "y"
         },
         {
          "font": {
           "family": "Inconsolata, monospace",
           "size": 12
          },
          "showarrow": false,
          "text": "FlyingFox",
          "textangle": 0,
          "x": 0.08410046435942033,
          "xanchor": "left",
          "xref": "x",
          "y": -8.450000000000001,
          "yref": "y"
         },
         {
          "font": {
           "family": "Inconsolata, monospace",
           "size": 12
          },
          "showarrow": false,
          "text": "DogFaced",
          "textangle": 0,
          "x": 0.10204184776702073,
          "xanchor": "left",
          "xref": "x",
          "y": -9.75,
          "yref": "y"
         },
         {
          "font": {
           "family": "Inconsolata, monospace",
           "size": 12
          },
          "showarrow": false,
          "text": "LeafNose",
          "textangle": 0,
          "x": 0.08187256299265226,
          "xanchor": "left",
          "xref": "x",
          "y": -11.05,
          "yref": "y"
         },
         {
          "font": {
           "family": "Inconsolata, monospace",
           "size": 12
          },
          "showarrow": false,
          "text": "FalseVamp",
          "textangle": 0,
          "x": 0.09069927898833748,
          "xanchor": "left",
          "xref": "x",
          "y": -12.35,
          "yref": "y"
         },
         {
          "font": {
           "family": "Inconsolata, monospace",
           "size": 12
          },
          "showarrow": false,
          "text": "0.24",
          "textangle": 0,
          "x": 0.0016635914678559442,
          "xanchor": "center",
          "xref": "x",
          "xshift": -14,
          "y": 9.2625,
          "yref": "y",
          "yshift": 7
         },
         {
          "font": {
           "family": "Inconsolata, monospace",
           "size": 12
          },
          "showarrow": false,
          "text": "0.70",
          "textangle": 0,
          "x": 0.005369545277741107,
          "xanchor": "center",
          "xref": "x",
          "xshift": -14,
          "y": 10.725,
          "yref": "y",
          "yshift": 7
         },
         {
          "font": {
           "family": "Inconsolata, monospace",
           "size": 12
          },
          "showarrow": false,
          "text": "0.29",
          "textangle": 0,
          "x": 0.001987169996462769,
          "xanchor": "center",
          "xref": "x",
          "xshift": -14,
          "y": -0.6703125000000001,
          "yref": "y",
          "yshift": 7
         },
         {
          "font": {
           "family": "Inconsolata, monospace",
           "size": 12
          },
          "showarrow": false,
          "text": "0.75",
          "textangle": 0,
          "x": 0.03681450578997773,
          "xanchor": "center",
          "xref": "x",
          "xshift": -14,
          "y": 4.225,
          "yref": "y",
          "yshift": 7
         },
         {
          "font": {
           "family": "Inconsolata, monospace",
           "size": 12
          },
          "showarrow": false,
          "text": "0.76",
          "textangle": 0,
          "x": 0.030395867088245262,
          "xanchor": "center",
          "xref": "x",
          "xshift": -14,
          "y": -3.9,
          "yref": "y",
          "yshift": 7
         }
        ],
        "autosize": true,
        "font": {
         "family": "Balto",
         "size": 14
        },
        "height": 400,
        "hovermode": "closest",
        "margin": {
         "b": 50,
         "l": 50,
         "pad": 4,
         "r": 50,
         "t": 50
        },
        "showlegend": false,
        "template": {
         "data": {
          "bar": [
           {
            "error_x": {
             "color": "#2a3f5f"
            },
            "error_y": {
             "color": "#2a3f5f"
            },
            "marker": {
             "line": {
              "color": "#E5ECF6",
              "width": 0.5
             }
            },
            "type": "bar"
           }
          ],
          "barpolar": [
           {
            "marker": {
             "line": {
              "color": "#E5ECF6",
              "width": 0.5
             }
            },
            "type": "barpolar"
           }
          ],
          "carpet": [
           {
            "aaxis": {
             "endlinecolor": "#2a3f5f",
             "gridcolor": "white",
             "linecolor": "white",
             "minorgridcolor": "white",
             "startlinecolor": "#2a3f5f"
            },
            "baxis": {
             "endlinecolor": "#2a3f5f",
             "gridcolor": "white",
             "linecolor": "white",
             "minorgridcolor": "white",
             "startlinecolor": "#2a3f5f"
            },
            "type": "carpet"
           }
          ],
          "choropleth": [
           {
            "colorbar": {
             "outlinewidth": 0,
             "ticks": ""
            },
            "type": "choropleth"
           }
          ],
          "contour": [
           {
            "colorbar": {
             "outlinewidth": 0,
             "ticks": ""
            },
            "colorscale": [
             [
              0,
              "#0d0887"
             ],
             [
              0.1111111111111111,
              "#46039f"
             ],
             [
              0.2222222222222222,
              "#7201a8"
             ],
             [
              0.3333333333333333,
              "#9c179e"
             ],
             [
              0.4444444444444444,
              "#bd3786"
             ],
             [
              0.5555555555555556,
              "#d8576b"
             ],
             [
              0.6666666666666666,
              "#ed7953"
             ],
             [
              0.7777777777777778,
              "#fb9f3a"
             ],
             [
              0.8888888888888888,
              "#fdca26"
             ],
             [
              1,
              "#f0f921"
             ]
            ],
            "type": "contour"
           }
          ],
          "contourcarpet": [
           {
            "colorbar": {
             "outlinewidth": 0,
             "ticks": ""
            },
            "type": "contourcarpet"
           }
          ],
          "heatmap": [
           {
            "colorbar": {
             "outlinewidth": 0,
             "ticks": ""
            },
            "colorscale": [
             [
              0,
              "#0d0887"
             ],
             [
              0.1111111111111111,
              "#46039f"
             ],
             [
              0.2222222222222222,
              "#7201a8"
             ],
             [
              0.3333333333333333,
              "#9c179e"
             ],
             [
              0.4444444444444444,
              "#bd3786"
             ],
             [
              0.5555555555555556,
              "#d8576b"
             ],
             [
              0.6666666666666666,
              "#ed7953"
             ],
             [
              0.7777777777777778,
              "#fb9f3a"
             ],
             [
              0.8888888888888888,
              "#fdca26"
             ],
             [
              1,
              "#f0f921"
             ]
            ],
            "type": "heatmap"
           }
          ],
          "heatmapgl": [
           {
            "colorbar": {
             "outlinewidth": 0,
             "ticks": ""
            },
            "colorscale": [
             [
              0,
              "#0d0887"
             ],
             [
              0.1111111111111111,
              "#46039f"
             ],
             [
              0.2222222222222222,
              "#7201a8"
             ],
             [
              0.3333333333333333,
              "#9c179e"
             ],
             [
              0.4444444444444444,
              "#bd3786"
             ],
             [
              0.5555555555555556,
              "#d8576b"
             ],
             [
              0.6666666666666666,
              "#ed7953"
             ],
             [
              0.7777777777777778,
              "#fb9f3a"
             ],
             [
              0.8888888888888888,
              "#fdca26"
             ],
             [
              1,
              "#f0f921"
             ]
            ],
            "type": "heatmapgl"
           }
          ],
          "histogram": [
           {
            "marker": {
             "colorbar": {
              "outlinewidth": 0,
              "ticks": ""
             }
            },
            "type": "histogram"
           }
          ],
          "histogram2d": [
           {
            "colorbar": {
             "outlinewidth": 0,
             "ticks": ""
            },
            "colorscale": [
             [
              0,
              "#0d0887"
             ],
             [
              0.1111111111111111,
              "#46039f"
             ],
             [
              0.2222222222222222,
              "#7201a8"
             ],
             [
              0.3333333333333333,
              "#9c179e"
             ],
             [
              0.4444444444444444,
              "#bd3786"
             ],
             [
              0.5555555555555556,
              "#d8576b"
             ],
             [
              0.6666666666666666,
              "#ed7953"
             ],
             [
              0.7777777777777778,
              "#fb9f3a"
             ],
             [
              0.8888888888888888,
              "#fdca26"
             ],
             [
              1,
              "#f0f921"
             ]
            ],
            "type": "histogram2d"
           }
          ],
          "histogram2dcontour": [
           {
            "colorbar": {
             "outlinewidth": 0,
             "ticks": ""
            },
            "colorscale": [
             [
              0,
              "#0d0887"
             ],
             [
              0.1111111111111111,
              "#46039f"
             ],
             [
              0.2222222222222222,
              "#7201a8"
             ],
             [
              0.3333333333333333,
              "#9c179e"
             ],
             [
              0.4444444444444444,
              "#bd3786"
             ],
             [
              0.5555555555555556,
              "#d8576b"
             ],
             [
              0.6666666666666666,
              "#ed7953"
             ],
             [
              0.7777777777777778,
              "#fb9f3a"
             ],
             [
              0.8888888888888888,
              "#fdca26"
             ],
             [
              1,
              "#f0f921"
             ]
            ],
            "type": "histogram2dcontour"
           }
          ],
          "mesh3d": [
           {
            "colorbar": {
             "outlinewidth": 0,
             "ticks": ""
            },
            "type": "mesh3d"
           }
          ],
          "parcoords": [
           {
            "line": {
             "colorbar": {
              "outlinewidth": 0,
              "ticks": ""
             }
            },
            "type": "parcoords"
           }
          ],
          "scatter": [
           {
            "marker": {
             "colorbar": {
              "outlinewidth": 0,
              "ticks": ""
             }
            },
            "type": "scatter"
           }
          ],
          "scatter3d": [
           {
            "line": {
             "colorbar": {
              "outlinewidth": 0,
              "ticks": ""
             }
            },
            "marker": {
             "colorbar": {
              "outlinewidth": 0,
              "ticks": ""
             }
            },
            "type": "scatter3d"
           }
          ],
          "scattercarpet": [
           {
            "marker": {
             "colorbar": {
              "outlinewidth": 0,
              "ticks": ""
             }
            },
            "type": "scattercarpet"
           }
          ],
          "scattergeo": [
           {
            "marker": {
             "colorbar": {
              "outlinewidth": 0,
              "ticks": ""
             }
            },
            "type": "scattergeo"
           }
          ],
          "scattergl": [
           {
            "marker": {
             "colorbar": {
              "outlinewidth": 0,
              "ticks": ""
             }
            },
            "type": "scattergl"
           }
          ],
          "scattermapbox": [
           {
            "marker": {
             "colorbar": {
              "outlinewidth": 0,
              "ticks": ""
             }
            },
            "type": "scattermapbox"
           }
          ],
          "scatterpolar": [
           {
            "marker": {
             "colorbar": {
              "outlinewidth": 0,
              "ticks": ""
             }
            },
            "type": "scatterpolar"
           }
          ],
          "scatterpolargl": [
           {
            "marker": {
             "colorbar": {
              "outlinewidth": 0,
              "ticks": ""
             }
            },
            "type": "scatterpolargl"
           }
          ],
          "scatterternary": [
           {
            "marker": {
             "colorbar": {
              "outlinewidth": 0,
              "ticks": ""
             }
            },
            "type": "scatterternary"
           }
          ],
          "surface": [
           {
            "colorbar": {
             "outlinewidth": 0,
             "ticks": ""
            },
            "colorscale": [
             [
              0,
              "#0d0887"
             ],
             [
              0.1111111111111111,
              "#46039f"
             ],
             [
              0.2222222222222222,
              "#7201a8"
             ],
             [
              0.3333333333333333,
              "#9c179e"
             ],
             [
              0.4444444444444444,
              "#bd3786"
             ],
             [
              0.5555555555555556,
              "#d8576b"
             ],
             [
              0.6666666666666666,
              "#ed7953"
             ],
             [
              0.7777777777777778,
              "#fb9f3a"
             ],
             [
              0.8888888888888888,
              "#fdca26"
             ],
             [
              1,
              "#f0f921"
             ]
            ],
            "type": "surface"
           }
          ],
          "table": [
           {
            "cells": {
             "fill": {
              "color": "#EBF0F8"
             },
             "line": {
              "color": "white"
             }
            },
            "header": {
             "fill": {
              "color": "#C8D4E3"
             },
             "line": {
              "color": "white"
             }
            },
            "type": "table"
           }
          ]
         },
         "layout": {
          "annotationdefaults": {
           "arrowcolor": "#2a3f5f",
           "arrowhead": 0,
           "arrowwidth": 1
          },
          "colorscale": {
           "diverging": [
            [
             0,
             "#8e0152"
            ],
            [
             0.1,
             "#c51b7d"
            ],
            [
             0.2,
             "#de77ae"
            ],
            [
             0.3,
             "#f1b6da"
            ],
            [
             0.4,
             "#fde0ef"
            ],
            [
             0.5,
             "#f7f7f7"
            ],
            [
             0.6,
             "#e6f5d0"
            ],
            [
             0.7,
             "#b8e186"
            ],
            [
             0.8,
             "#7fbc41"
            ],
            [
             0.9,
             "#4d9221"
            ],
            [
             1,
             "#276419"
            ]
           ],
           "sequential": [
            [
             0,
             "#0d0887"
            ],
            [
             0.1111111111111111,
             "#46039f"
            ],
            [
             0.2222222222222222,
             "#7201a8"
            ],
            [
             0.3333333333333333,
             "#9c179e"
            ],
            [
             0.4444444444444444,
             "#bd3786"
            ],
            [
             0.5555555555555556,
             "#d8576b"
            ],
            [
             0.6666666666666666,
             "#ed7953"
            ],
            [
             0.7777777777777778,
             "#fb9f3a"
            ],
            [
             0.8888888888888888,
             "#fdca26"
            ],
            [
             1,
             "#f0f921"
            ]
           ],
           "sequentialminus": [
            [
             0,
             "#0d0887"
            ],
            [
             0.1111111111111111,
             "#46039f"
            ],
            [
             0.2222222222222222,
             "#7201a8"
            ],
            [
             0.3333333333333333,
             "#9c179e"
            ],
            [
             0.4444444444444444,
             "#bd3786"
            ],
            [
             0.5555555555555556,
             "#d8576b"
            ],
            [
             0.6666666666666666,
             "#ed7953"
            ],
            [
             0.7777777777777778,
             "#fb9f3a"
            ],
            [
             0.8888888888888888,
             "#fdca26"
            ],
            [
             1,
             "#f0f921"
            ]
           ]
          },
          "colorway": [
           "#636efa",
           "#EF553B",
           "#00cc96",
           "#ab63fa",
           "#FFA15A",
           "#19d3f3",
           "#FF6692",
           "#B6E880",
           "#FF97FF",
           "#FECB52"
          ],
          "font": {
           "color": "#2a3f5f"
          },
          "geo": {
           "bgcolor": "white",
           "lakecolor": "white",
           "landcolor": "#E5ECF6",
           "showlakes": true,
           "showland": true,
           "subunitcolor": "white"
          },
          "hoverlabel": {
           "align": "left"
          },
          "hovermode": "closest",
          "mapbox": {
           "style": "light"
          },
          "paper_bgcolor": "white",
          "plot_bgcolor": "#E5ECF6",
          "polar": {
           "angularaxis": {
            "gridcolor": "white",
            "linecolor": "white",
            "ticks": ""
           },
           "bgcolor": "#E5ECF6",
           "radialaxis": {
            "gridcolor": "white",
            "linecolor": "white",
            "ticks": ""
           }
          },
          "scene": {
           "xaxis": {
            "backgroundcolor": "#E5ECF6",
            "gridcolor": "white",
            "gridwidth": 2,
            "linecolor": "white",
            "showbackground": true,
            "ticks": "",
            "zerolinecolor": "white"
           },
           "yaxis": {
            "backgroundcolor": "#E5ECF6",
            "gridcolor": "white",
            "gridwidth": 2,
            "linecolor": "white",
            "showbackground": true,
            "ticks": "",
            "zerolinecolor": "white"
           },
           "zaxis": {
            "backgroundcolor": "#E5ECF6",
            "gridcolor": "white",
            "gridwidth": 2,
            "linecolor": "white",
            "showbackground": true,
            "ticks": "",
            "zerolinecolor": "white"
           }
          },
          "shapedefaults": {
           "line": {
            "color": "#2a3f5f"
           }
          },
          "ternary": {
           "aaxis": {
            "gridcolor": "white",
            "linecolor": "white",
            "ticks": ""
           },
           "baxis": {
            "gridcolor": "white",
            "linecolor": "white",
            "ticks": ""
           },
           "bgcolor": "#E5ECF6",
           "caxis": {
            "gridcolor": "white",
            "linecolor": "white",
            "ticks": ""
           }
          },
          "title": {
           "x": 0.05
          },
          "xaxis": {
           "automargin": true,
           "gridcolor": "white",
           "linecolor": "white",
           "ticks": "",
           "zerolinecolor": "white",
           "zerolinewidth": 2
          },
          "yaxis": {
           "automargin": true,
           "gridcolor": "white",
           "linecolor": "white",
           "ticks": "",
           "zerolinecolor": "white",
           "zerolinewidth": 2
          }
         }
        },
        "width": 500,
        "xaxis": {
         "autorange": true,
         "range": [
          -0.0172970770471826,
          0.25356961602479655
         ],
         "type": "linear",
         "visible": false
        },
        "yaxis": {
         "autorange": true,
         "range": [
          -14.034090909090908,
          14.034090909090908
         ],
         "type": "linear",
         "visible": false
        }
       }
      },
      "image/png": "[encoded data removed]",
      "text/html": [
       "<div>\n",
       "        \n",
       "        \n",
       "            <div id=\"b62c92ee-748b-4261-9e68-3a5bd2fa3f57\" class=\"plotly-graph-div\" style=\"height:400px; width:500px;\"></div>\n",
       "            <script type=\"text/javascript\">\n",
       "                require([\"plotly\"], function(Plotly) {\n",
       "                    window.PLOTLYENV=window.PLOTLYENV || {};\n",
       "                    \n",
       "                if (document.getElementById(\"b62c92ee-748b-4261-9e68-3a5bd2fa3f57\")) {\n",
       "                    Plotly.newPlot(\n",
       "                        'b62c92ee-748b-4261-9e68-3a5bd2fa3f57',\n",
       "                        [{\"line\": {\"color\": \"black\", \"shape\": \"spline\", \"smoothing\": 1.3, \"width\": 1.25}, \"mode\": \"lines\", \"showlegend\": false, \"type\": \"scatter\", \"x\": [null, null, 0, 0, null, 0, 0.0016635914678559442, null, 0.0016635914678559442, 0.0016635914678559442, null, 0.0016635914678559442, 0.005369545277741107, null, 0.005369545277741107, 0.005369545277741107, null, 0.005369545277741107, 0.031153370343094598, null, 0.031153370343094598, 0.031153370343094598, null, 0.031153370343094598, 0.08631195081779765, null, 0.031153370343094598, 0.031153370343094598, null, 0.031153370343094598, 0.11372226606590709, null, 0.005369545277741107, 0.005369545277741107, null, 0.005369545277741107, 0.07956551945410295, null, 0.0016635914678559442, 0.0016635914678559442, null, 0.0016635914678559442, 0.014656744829611266, null, 0.014656744829611266, 0.014656744829611266, null, 0.014656744829611266, 0.048499823687140065, null, 0.014656744829611266, 0.014656744829611266, null, 0.014656744829611266, 0.058183439825163115, null, 0, 0, null, 0, 0.001987169996462769, null, 0.001987169996462769, 0.001987169996462769, null, 0.001987169996462769, 0.02054537383090987, null, 0.02054537383090987, 0.02054537383090987, null, 0.02054537383090987, 0.025261259625981795, null, 0.025261259625981795, 0.025261259625981795, null, 0.025261259625981795, 0.0333020198570895, null, 0.0333020198570895, 0.0333020198570895, null, 0.0333020198570895, 0.03681450578997773, null, 0.03681450578997773, 0.03681450578997773, null, 0.03681450578997773, 0.059591157700027056, null, 0.059591157700027056, 0.059591157700027056, null, 0.059591157700027056, 0.07066369595496988, null, 0.059591157700027056, 0.059591157700027056, null, 0.059591157700027056, 0.07465626505796832, null, 0.03681450578997773, 0.03681450578997773, null, 0.03681450578997773, 0.08741296114249245, null, 0.0333020198570895, 0.0333020198570895, null, 0.0333020198570895, 0.11702881314270744, null, 0.025261259625981795, 0.025261259625981795, null, 0.025261259625981795, 0.09953929051305313, null, 0.02054537383090987, 0.02054537383090987, null, 0.02054537383090987, 0.07899050274522948, null, 0.001987169996462769, 0.001987169996462769, null, 0.001987169996462769, 0.12245874195312466, null, 0, 0, null, 0, 0.011357615613402238, null, 0.011357615613402238, 0.011357615613402238, null, 0.011357615613402238, 0.014781839705895783, null, 0.014781839705895783, 0.014781839705895783, null, 0.014781839705895783, 0.025442025128467643, null, 0.025442025128467643, 0.025442025128467643, null, 0.025442025128467643, 0.030395867088245262, null, 0.030395867088245262, 0.030395867088245262, null, 0.030395867088245262, 0.08717485111392888, null, 0.030395867088245262, 0.030395867088245262, null, 0.030395867088245262, 0.20906726393108255, null, 0.025442025128467643, 0.025442025128467643, null, 0.025442025128467643, 0.034272101380184446, null, 0.034272101380184446, 0.034272101380184446, null, 0.034272101380184446, 0.07334674212490472, null, 0.034272101380184446, 0.034272101380184446, null, 0.034272101380184446, 0.0873227799527246, null, 0.014781839705895783, 0.014781839705895783, null, 0.014781839705895783, 0.06090021381372198, null, 0.06090021381372198, 0.06090021381372198, null, 0.06090021381372198, 0.07887378276114326, null, 0.06090021381372198, 0.06090021381372198, null, 0.06090021381372198, 0.09681516616874367, null, 0.011357615613402238, 0.011357615613402238, null, 0.011357615613402238, 0.017892621141320973, null, 0.017892621141320973, 0.017892621141320973, null, 0.017892621141320973, 0.0766458813943752, null, 0.017892621141320973, 0.017892621141320973, null, 0.017892621141320973, 0.08547259739006041, null], \"y\": [null, null, -0.6703125000000001, 9.2625, null, 9.2625, 9.2625, null, 9.2625, 10.725, null, 10.725, 10.725, null, 10.725, 11.7, null, 11.7, 11.7, null, 11.7, 12.35, null, 12.35, 12.35, null, 11.7, 11.05, null, 11.05, 11.05, null, 10.725, 9.75, null, 9.75, 9.75, null, 9.2625, 7.800000000000001, null, 7.800000000000001, 7.800000000000001, null, 7.800000000000001, 8.450000000000001, null, 8.450000000000001, 8.450000000000001, null, 7.800000000000001, 7.15, null, 7.15, 7.15, null, -0.6703125000000001, -0.6703125000000001, null, -0.6703125000000001, -0.6703125000000001, null, -0.6703125000000001, 0.609375, null, 0.609375, 0.609375, null, 0.609375, 1.86875, null, 1.86875, 1.86875, null, 1.86875, 3.0875, null, 3.0875, 3.0875, null, 3.0875, 4.225, null, 4.225, 4.225, null, 4.225, 5.2, null, 5.2, 5.2, null, 5.2, 5.8500000000000005, null, 5.8500000000000005, 5.8500000000000005, null, 5.2, 4.55, null, 4.55, 4.55, null, 4.225, 3.25, null, 3.25, 3.25, null, 3.0875, 1.9500000000000002, null, 1.9500000000000002, 1.9500000000000002, null, 1.86875, 0.65, null, 0.65, 0.65, null, 0.609375, -0.65, null, -0.65, -0.65, null, -0.6703125000000001, -1.9500000000000002, null, -1.9500000000000002, -1.9500000000000002, null, -0.6703125000000001, -9.425, null, -9.425, -9.425, null, -9.425, -7.15, null, -7.15, -7.15, null, -7.15, -5.2, null, -5.2, -5.2, null, -5.2, -3.9, null, -3.9, -3.9, null, -3.9, -3.25, null, -3.25, -3.25, null, -3.9, -4.55, null, -4.55, -4.55, null, -5.2, -6.5, null, -6.5, -6.5, null, -6.5, -5.8500000000000005, null, -5.8500000000000005, -5.8500000000000005, null, -6.5, -7.15, null, -7.15, -7.15, null, -7.15, -9.100000000000001, null, -9.100000000000001, -9.100000000000001, null, -9.100000000000001, -8.450000000000001, null, -8.450000000000001, -8.450000000000001, null, -9.100000000000001, -9.75, null, -9.75, -9.75, null, -9.425, -11.7, null, -11.7, -11.7, null, -11.7, -11.05, null, -11.05, -11.05, null, -11.7, -12.35, null, -12.35, -12.35, null]}, {\"hoverinfo\": \"text\", \"marker\": {\"color\": \"black\", \"size\": 3, \"symbol\": \"circle\"}, \"mode\": \"markers\", \"showlegend\": false, \"text\": [\"root\", \"edge.16\", \"edge.14\", \"edge.6\", \"Cat\", \"Dog\", \"Pangolin\", \"edge.7\", \"Rhino\", \"Horse\", \"edge.15\", \"edge.2\", \"edge.10\", \"edge.1\", \"edge.13\", \"edge.0\", \"HumpbackW\", \"SpermWhale\", \"Hippo\", \"Cow\", \"Pig\", \"Llama\", \"Mole\", \"edge.5\", \"edge.11\", \"edge.3\", \"edge.12\", \"TombBat\", \"RoundEare\", \"edge.9\", \"FreeTaile\", \"LittleBro\", \"edge.4\", \"FlyingFox\", \"DogFaced\", \"edge.8\", \"LeafNose\", \"FalseVamp\"], \"type\": \"scatter\", \"x\": [0, 0.0016635914678559442, 0.005369545277741107, 0.031153370343094598, 0.08631195081779765, 0.11372226606590709, 0.07956551945410295, 0.014656744829611266, 0.048499823687140065, 0.058183439825163115, 0.001987169996462769, 0.02054537383090987, 0.025261259625981795, 0.0333020198570895, 0.03681450578997773, 0.059591157700027056, 0.07066369595496988, 0.07465626505796832, 0.08741296114249245, 0.11702881314270744, 0.09953929051305313, 0.07899050274522948, 0.12245874195312466, 0.011357615613402238, 0.014781839705895783, 0.025442025128467643, 0.030395867088245262, 0.08717485111392888, 0.20906726393108255, 0.034272101380184446, 0.07334674212490472, 0.0873227799527246, 0.06090021381372198, 0.07887378276114326, 0.09681516616874367, 0.017892621141320973, 0.0766458813943752, 0.08547259739006041], \"y\": [-0.6703125000000001, 9.2625, 10.725, 11.7, 12.35, 11.05, 9.75, 7.800000000000001, 8.450000000000001, 7.15, -0.6703125000000001, 0.609375, 1.86875, 3.0875, 4.225, 5.2, 5.8500000000000005, 4.55, 3.25, 1.9500000000000002, 0.65, -0.65, -1.9500000000000002, -9.425, -7.15, -5.2, -3.9, -3.25, -4.55, -6.5, -5.8500000000000005, -7.15, -9.100000000000001, -8.450000000000001, -9.75, -11.7, -11.05, -12.35]}],\n",
       "                        {\"annotations\": [{\"font\": {\"family\": \"Inconsolata, monospace\", \"size\": 12}, \"showarrow\": false, \"text\": \"Cat\", \"textangle\": 0, \"x\": 0.09153863241607471, \"xanchor\": \"left\", \"xref\": \"x\", \"y\": 12.35, \"yref\": \"y\"}, {\"font\": {\"family\": \"Inconsolata, monospace\", \"size\": 12}, \"showarrow\": false, \"text\": \"Dog\", \"textangle\": 0, \"x\": 0.11894894766418415, \"xanchor\": \"left\", \"xref\": \"x\", \"y\": 11.05, \"yref\": \"y\"}, {\"font\": {\"family\": \"Inconsolata, monospace\", \"size\": 12}, \"showarrow\": false, \"text\": \"Pangolin\", \"textangle\": 0, \"x\": 0.08479220105238001, \"xanchor\": \"left\", \"xref\": \"x\", \"y\": 9.75, \"yref\": \"y\"}, {\"font\": {\"family\": \"Inconsolata, monospace\", \"size\": 12}, \"showarrow\": false, \"text\": \"Rhino\", \"textangle\": 0, \"x\": 0.05372650528541713, \"xanchor\": \"left\", \"xref\": \"x\", \"y\": 8.450000000000001, \"yref\": \"y\"}, {\"font\": {\"family\": \"Inconsolata, monospace\", \"size\": 12}, \"showarrow\": false, \"text\": \"Horse\", \"textangle\": 0, \"x\": 0.06341012142344019, \"xanchor\": \"left\", \"xref\": \"x\", \"y\": 7.15, \"yref\": \"y\"}, {\"font\": {\"family\": \"Inconsolata, monospace\", \"size\": 12}, \"showarrow\": false, \"text\": \"HumpbackW\", \"textangle\": 0, \"x\": 0.07589037755324694, \"xanchor\": \"left\", \"xref\": \"x\", \"y\": 5.8500000000000005, \"yref\": \"y\"}, {\"font\": {\"family\": \"Inconsolata, monospace\", \"size\": 12}, \"showarrow\": false, \"text\": \"SpermWhale\", \"textangle\": 0, \"x\": 0.07988294665624539, \"xanchor\": \"left\", \"xref\": \"x\", \"y\": 4.55, \"yref\": \"y\"}, {\"font\": {\"family\": \"Inconsolata, monospace\", \"size\": 12}, \"showarrow\": false, \"text\": \"Hippo\", \"textangle\": 0, \"x\": 0.09263964274076951, \"xanchor\": \"left\", \"xref\": \"x\", \"y\": 3.25, \"yref\": \"y\"}, {\"font\": {\"family\": \"Inconsolata, monospace\", \"size\": 12}, \"showarrow\": false, \"text\": \"Cow\", \"textangle\": 0, \"x\": 0.1222554947409845, \"xanchor\": \"left\", \"xref\": \"x\", \"y\": 1.9500000000000002, \"yref\": \"y\"}, {\"font\": {\"family\": \"Inconsolata, monospace\", \"size\": 12}, \"showarrow\": false, \"text\": \"Pig\", \"textangle\": 0, \"x\": 0.1047659721113302, \"xanchor\": \"left\", \"xref\": \"x\", \"y\": 0.65, \"yref\": \"y\"}, {\"font\": {\"family\": \"Inconsolata, monospace\", \"size\": 12}, \"showarrow\": false, \"text\": \"Llama\", \"textangle\": 0, \"x\": 0.08421718434350654, \"xanchor\": \"left\", \"xref\": \"x\", \"y\": -0.65, \"yref\": \"y\"}, {\"font\": {\"family\": \"Inconsolata, monospace\", \"size\": 12}, \"showarrow\": false, \"text\": \"Mole\", \"textangle\": 0, \"x\": 0.12768542355140172, \"xanchor\": \"left\", \"xref\": \"x\", \"y\": -1.9500000000000002, \"yref\": \"y\"}, {\"font\": {\"family\": \"Inconsolata, monospace\", \"size\": 12}, \"showarrow\": false, \"text\": \"TombBat\", \"textangle\": 0, \"x\": 0.09240153271220594, \"xanchor\": \"left\", \"xref\": \"x\", \"y\": -3.25, \"yref\": \"y\"}, {\"font\": {\"family\": \"Inconsolata, monospace\", \"size\": 12}, \"showarrow\": false, \"text\": \"RoundEare\", \"textangle\": 0, \"x\": 0.2142939455293596, \"xanchor\": \"left\", \"xref\": \"x\", \"y\": -4.55, \"yref\": \"y\"}, {\"font\": {\"family\": \"Inconsolata, monospace\", \"size\": 12}, \"showarrow\": false, \"text\": \"FreeTaile\", \"textangle\": 0, \"x\": 0.07857342372318178, \"xanchor\": \"left\", \"xref\": \"x\", \"y\": -5.8500000000000005, \"yref\": \"y\"}, {\"font\": {\"family\": \"Inconsolata, monospace\", \"size\": 12}, \"showarrow\": false, \"text\": \"LittleBro\", \"textangle\": 0, \"x\": 0.09254946155100166, \"xanchor\": \"left\", \"xref\": \"x\", \"y\": -7.15, \"yref\": \"y\"}, {\"font\": {\"family\": \"Inconsolata, monospace\", \"size\": 12}, \"showarrow\": false, \"text\": \"FlyingFox\", \"textangle\": 0, \"x\": 0.08410046435942033, \"xanchor\": \"left\", \"xref\": \"x\", \"y\": -8.450000000000001, \"yref\": \"y\"}, {\"font\": {\"family\": \"Inconsolata, monospace\", \"size\": 12}, \"showarrow\": false, \"text\": \"DogFaced\", \"textangle\": 0, \"x\": 0.10204184776702073, \"xanchor\": \"left\", \"xref\": \"x\", \"y\": -9.75, \"yref\": \"y\"}, {\"font\": {\"family\": \"Inconsolata, monospace\", \"size\": 12}, \"showarrow\": false, \"text\": \"LeafNose\", \"textangle\": 0, \"x\": 0.08187256299265226, \"xanchor\": \"left\", \"xref\": \"x\", \"y\": -11.05, \"yref\": \"y\"}, {\"font\": {\"family\": \"Inconsolata, monospace\", \"size\": 12}, \"showarrow\": false, \"text\": \"FalseVamp\", \"textangle\": 0, \"x\": 0.09069927898833748, \"xanchor\": \"left\", \"xref\": \"x\", \"y\": -12.35, \"yref\": \"y\"}, {\"font\": {\"family\": \"Inconsolata, monospace\", \"size\": 12}, \"showarrow\": false, \"text\": \"0.24\", \"textangle\": 0, \"x\": 0.0016635914678559442, \"xanchor\": \"center\", \"xref\": \"x\", \"xshift\": -14, \"y\": 9.2625, \"yref\": \"y\", \"yshift\": 7}, {\"font\": {\"family\": \"Inconsolata, monospace\", \"size\": 12}, \"showarrow\": false, \"text\": \"0.70\", \"textangle\": 0, \"x\": 0.005369545277741107, \"xanchor\": \"center\", \"xref\": \"x\", \"xshift\": -14, \"y\": 10.725, \"yref\": \"y\", \"yshift\": 7}, {\"font\": {\"family\": \"Inconsolata, monospace\", \"size\": 12}, \"showarrow\": false, \"text\": \"0.29\", \"textangle\": 0, \"x\": 0.001987169996462769, \"xanchor\": \"center\", \"xref\": \"x\", \"xshift\": -14, \"y\": -0.6703125000000001, \"yref\": \"y\", \"yshift\": 7}, {\"font\": {\"family\": \"Inconsolata, monospace\", \"size\": 12}, \"showarrow\": false, \"text\": \"0.75\", \"textangle\": 0, \"x\": 0.03681450578997773, \"xanchor\": \"center\", \"xref\": \"x\", \"xshift\": -14, \"y\": 4.225, \"yref\": \"y\", \"yshift\": 7}, {\"font\": {\"family\": \"Inconsolata, monospace\", \"size\": 12}, \"showarrow\": false, \"text\": \"0.76\", \"textangle\": 0, \"x\": 0.030395867088245262, \"xanchor\": \"center\", \"xref\": \"x\", \"xshift\": -14, \"y\": -3.9, \"yref\": \"y\", \"yshift\": 7}], \"autosize\": true, \"font\": {\"family\": \"Balto\", \"size\": 14}, \"height\": 400, \"hovermode\": \"closest\", \"margin\": {\"b\": 50, \"l\": 50, \"pad\": 4, \"r\": 50, \"t\": 50}, \"showlegend\": false, \"template\": {\"data\": {\"bar\": [{\"error_x\": {\"color\": \"#2a3f5f\"}, \"error_y\": {\"color\": \"#2a3f5f\"}, \"marker\": {\"line\": {\"color\": \"#E5ECF6\", \"width\": 0.5}}, \"type\": \"bar\"}], \"barpolar\": [{\"marker\": {\"line\": {\"color\": \"#E5ECF6\", \"width\": 0.5}}, \"type\": \"barpolar\"}], \"carpet\": [{\"aaxis\": {\"endlinecolor\": \"#2a3f5f\", \"gridcolor\": \"white\", \"linecolor\": \"white\", \"minorgridcolor\": \"white\", \"startlinecolor\": \"#2a3f5f\"}, \"baxis\": {\"endlinecolor\": \"#2a3f5f\", \"gridcolor\": \"white\", \"linecolor\": \"white\", \"minorgridcolor\": \"white\", \"startlinecolor\": \"#2a3f5f\"}, \"type\": \"carpet\"}], \"choropleth\": [{\"colorbar\": {\"outlinewidth\": 0, \"ticks\": \"\"}, \"type\": \"choropleth\"}], \"contour\": [{\"colorbar\": {\"outlinewidth\": 0, \"ticks\": \"\"}, \"colorscale\": [[0.0, \"#0d0887\"], [0.1111111111111111, \"#46039f\"], [0.2222222222222222, \"#7201a8\"], [0.3333333333333333, \"#9c179e\"], [0.4444444444444444, \"#bd3786\"], [0.5555555555555556, \"#d8576b\"], [0.6666666666666666, \"#ed7953\"], [0.7777777777777778, \"#fb9f3a\"], [0.8888888888888888, \"#fdca26\"], [1.0, \"#f0f921\"]], \"type\": \"contour\"}], \"contourcarpet\": [{\"colorbar\": {\"outlinewidth\": 0, \"ticks\": \"\"}, \"type\": \"contourcarpet\"}], \"heatmap\": [{\"colorbar\": {\"outlinewidth\": 0, \"ticks\": \"\"}, \"colorscale\": [[0.0, \"#0d0887\"], [0.1111111111111111, \"#46039f\"], [0.2222222222222222, \"#7201a8\"], [0.3333333333333333, \"#9c179e\"], [0.4444444444444444, \"#bd3786\"], [0.5555555555555556, \"#d8576b\"], [0.6666666666666666, \"#ed7953\"], [0.7777777777777778, \"#fb9f3a\"], [0.8888888888888888, \"#fdca26\"], [1.0, \"#f0f921\"]], \"type\": \"heatmap\"}], \"heatmapgl\": [{\"colorbar\": {\"outlinewidth\": 0, \"ticks\": \"\"}, \"colorscale\": [[0.0, \"#0d0887\"], [0.1111111111111111, \"#46039f\"], [0.2222222222222222, \"#7201a8\"], [0.3333333333333333, \"#9c179e\"], [0.4444444444444444, \"#bd3786\"], [0.5555555555555556, \"#d8576b\"], [0.6666666666666666, \"#ed7953\"], [0.7777777777777778, \"#fb9f3a\"], [0.8888888888888888, \"#fdca26\"], [1.0, \"#f0f921\"]], \"type\": \"heatmapgl\"}], \"histogram\": [{\"marker\": {\"colorbar\": {\"outlinewidth\": 0, \"ticks\": \"\"}}, \"type\": \"histogram\"}], \"histogram2d\": [{\"colorbar\": {\"outlinewidth\": 0, \"ticks\": \"\"}, \"colorscale\": [[0.0, \"#0d0887\"], [0.1111111111111111, \"#46039f\"], [0.2222222222222222, \"#7201a8\"], [0.3333333333333333, \"#9c179e\"], [0.4444444444444444, \"#bd3786\"], [0.5555555555555556, \"#d8576b\"], [0.6666666666666666, \"#ed7953\"], [0.7777777777777778, \"#fb9f3a\"], [0.8888888888888888, \"#fdca26\"], [1.0, \"#f0f921\"]], \"type\": \"histogram2d\"}], \"histogram2dcontour\": [{\"colorbar\": {\"outlinewidth\": 0, \"ticks\": \"\"}, \"colorscale\": [[0.0, \"#0d0887\"], [0.1111111111111111, \"#46039f\"], [0.2222222222222222, \"#7201a8\"], [0.3333333333333333, \"#9c179e\"], [0.4444444444444444, \"#bd3786\"], [0.5555555555555556, \"#d8576b\"], [0.6666666666666666, \"#ed7953\"], [0.7777777777777778, \"#fb9f3a\"], [0.8888888888888888, \"#fdca26\"], [1.0, \"#f0f921\"]], \"type\": \"histogram2dcontour\"}], \"mesh3d\": [{\"colorbar\": {\"outlinewidth\": 0, \"ticks\": \"\"}, \"type\": \"mesh3d\"}], \"parcoords\": [{\"line\": {\"colorbar\": {\"outlinewidth\": 0, \"ticks\": \"\"}}, \"type\": \"parcoords\"}], \"scatter\": [{\"marker\": {\"colorbar\": {\"outlinewidth\": 0, \"ticks\": \"\"}}, \"type\": \"scatter\"}], \"scatter3d\": [{\"line\": {\"colorbar\": {\"outlinewidth\": 0, \"ticks\": \"\"}}, \"marker\": {\"colorbar\": {\"outlinewidth\": 0, \"ticks\": \"\"}}, \"type\": \"scatter3d\"}], \"scattercarpet\": [{\"marker\": {\"colorbar\": {\"outlinewidth\": 0, \"ticks\": \"\"}}, \"type\": \"scattercarpet\"}], \"scattergeo\": [{\"marker\": {\"colorbar\": {\"outlinewidth\": 0, \"ticks\": \"\"}}, \"type\": \"scattergeo\"}], \"scattergl\": [{\"marker\": {\"colorbar\": {\"outlinewidth\": 0, \"ticks\": \"\"}}, \"type\": \"scattergl\"}], \"scattermapbox\": [{\"marker\": {\"colorbar\": {\"outlinewidth\": 0, \"ticks\": \"\"}}, \"type\": \"scattermapbox\"}], \"scatterpolar\": [{\"marker\": {\"colorbar\": {\"outlinewidth\": 0, \"ticks\": \"\"}}, \"type\": \"scatterpolar\"}], \"scatterpolargl\": [{\"marker\": {\"colorbar\": {\"outlinewidth\": 0, \"ticks\": \"\"}}, \"type\": \"scatterpolargl\"}], \"scatterternary\": [{\"marker\": {\"colorbar\": {\"outlinewidth\": 0, \"ticks\": \"\"}}, \"type\": \"scatterternary\"}], \"surface\": [{\"colorbar\": {\"outlinewidth\": 0, \"ticks\": \"\"}, \"colorscale\": [[0.0, \"#0d0887\"], [0.1111111111111111, \"#46039f\"], [0.2222222222222222, \"#7201a8\"], [0.3333333333333333, \"#9c179e\"], [0.4444444444444444, \"#bd3786\"], [0.5555555555555556, \"#d8576b\"], [0.6666666666666666, \"#ed7953\"], [0.7777777777777778, \"#fb9f3a\"], [0.8888888888888888, \"#fdca26\"], [1.0, \"#f0f921\"]], \"type\": \"surface\"}], \"table\": [{\"cells\": {\"fill\": {\"color\": \"#EBF0F8\"}, \"line\": {\"color\": \"white\"}}, \"header\": {\"fill\": {\"color\": \"#C8D4E3\"}, \"line\": {\"color\": \"white\"}}, \"type\": \"table\"}]}, \"layout\": {\"annotationdefaults\": {\"arrowcolor\": \"#2a3f5f\", \"arrowhead\": 0, \"arrowwidth\": 1}, \"colorscale\": {\"diverging\": [[0, \"#8e0152\"], [0.1, \"#c51b7d\"], [0.2, \"#de77ae\"], [0.3, \"#f1b6da\"], [0.4, \"#fde0ef\"], [0.5, \"#f7f7f7\"], [0.6, \"#e6f5d0\"], [0.7, \"#b8e186\"], [0.8, \"#7fbc41\"], [0.9, \"#4d9221\"], [1, \"#276419\"]], \"sequential\": [[0.0, \"#0d0887\"], [0.1111111111111111, \"#46039f\"], [0.2222222222222222, \"#7201a8\"], [0.3333333333333333, \"#9c179e\"], [0.4444444444444444, \"#bd3786\"], [0.5555555555555556, \"#d8576b\"], [0.6666666666666666, \"#ed7953\"], [0.7777777777777778, \"#fb9f3a\"], [0.8888888888888888, \"#fdca26\"], [1.0, \"#f0f921\"]], \"sequentialminus\": [[0.0, \"#0d0887\"], [0.1111111111111111, \"#46039f\"], [0.2222222222222222, \"#7201a8\"], [0.3333333333333333, \"#9c179e\"], [0.4444444444444444, \"#bd3786\"], [0.5555555555555556, \"#d8576b\"], [0.6666666666666666, \"#ed7953\"], [0.7777777777777778, \"#fb9f3a\"], [0.8888888888888888, \"#fdca26\"], [1.0, \"#f0f921\"]]}, \"colorway\": [\"#636efa\", \"#EF553B\", \"#00cc96\", \"#ab63fa\", \"#FFA15A\", \"#19d3f3\", \"#FF6692\", \"#B6E880\", \"#FF97FF\", \"#FECB52\"], \"font\": {\"color\": \"#2a3f5f\"}, \"geo\": {\"bgcolor\": \"white\", \"lakecolor\": \"white\", \"landcolor\": \"#E5ECF6\", \"showlakes\": true, \"showland\": true, \"subunitcolor\": \"white\"}, \"hoverlabel\": {\"align\": \"left\"}, \"hovermode\": \"closest\", \"mapbox\": {\"style\": \"light\"}, \"paper_bgcolor\": \"white\", \"plot_bgcolor\": \"#E5ECF6\", \"polar\": {\"angularaxis\": {\"gridcolor\": \"white\", \"linecolor\": \"white\", \"ticks\": \"\"}, \"bgcolor\": \"#E5ECF6\", \"radialaxis\": {\"gridcolor\": \"white\", \"linecolor\": \"white\", \"ticks\": \"\"}}, \"scene\": {\"xaxis\": {\"backgroundcolor\": \"#E5ECF6\", \"gridcolor\": \"white\", \"gridwidth\": 2, \"linecolor\": \"white\", \"showbackground\": true, \"ticks\": \"\", \"zerolinecolor\": \"white\"}, \"yaxis\": {\"backgroundcolor\": \"#E5ECF6\", \"gridcolor\": \"white\", \"gridwidth\": 2, \"linecolor\": \"white\", \"showbackground\": true, \"ticks\": \"\", \"zerolinecolor\": \"white\"}, \"zaxis\": {\"backgroundcolor\": \"#E5ECF6\", \"gridcolor\": \"white\", \"gridwidth\": 2, \"linecolor\": \"white\", \"showbackground\": true, \"ticks\": \"\", \"zerolinecolor\": \"white\"}}, \"shapedefaults\": {\"line\": {\"color\": \"#2a3f5f\"}}, \"ternary\": {\"aaxis\": {\"gridcolor\": \"white\", \"linecolor\": \"white\", \"ticks\": \"\"}, \"baxis\": {\"gridcolor\": \"white\", \"linecolor\": \"white\", \"ticks\": \"\"}, \"bgcolor\": \"#E5ECF6\", \"caxis\": {\"gridcolor\": \"white\", \"linecolor\": \"white\", \"ticks\": \"\"}}, \"title\": {\"x\": 0.05}, \"xaxis\": {\"automargin\": true, \"gridcolor\": \"white\", \"linecolor\": \"white\", \"ticks\": \"\", \"zerolinecolor\": \"white\", \"zerolinewidth\": 2}, \"yaxis\": {\"automargin\": true, \"gridcolor\": \"white\", \"linecolor\": \"white\", \"ticks\": \"\", \"zerolinecolor\": \"white\", \"zerolinewidth\": 2}}}, \"width\": 500, \"xaxis\": {\"visible\": false}, \"yaxis\": {\"visible\": false}},\n",
       "                        {\"responsive\": true}\n",
       "                    ).then(function(){\n",
       "                            \n",
       "var gd = document.getElementById('b62c92ee-748b-4261-9e68-3a5bd2fa3f57');\n",
       "var x = new MutationObserver(function (mutations, observer) {{\n",
       "        var display = window.getComputedStyle(gd).display;\n",
       "        if (!display || display === 'none') {{\n",
       "            console.log([gd, 'removed!']);\n",
       "            Plotly.purge(gd);\n",
       "            observer.disconnect();\n",
       "        }}\n",
       "}});\n",
       "\n",
       "// Listen for the removal of the full notebook cells\n",
       "var notebookContainer = gd.closest('#notebook-container');\n",
       "if (notebookContainer) {{\n",
       "    x.observe(notebookContainer, {childList: true});\n",
       "}}\n",
       "\n",
       "// Listen for the clearing of the current output cell\n",
       "var outputEl = gd.closest('.output');\n",
       "if (outputEl) {{\n",
       "    x.observe(outputEl, {childList: true});\n",
       "}}\n",
       "\n",
       "                        })\n",
       "                };\n",
       "                });\n",
       "            </script>\n",
       "        </div>"
      ]
     },
     "metadata": {},
     "output_type": "display_data"
    }
   ],
   "source": [
    "from cogent3.app import io\n",
    "\n",
    "reader = io.load_json()\n",
    "\n",
    "tree = reader(\"../data/tree-with-support.json\")\n",
    "fig = tree.get_figure(show_support=True, threshold=0.8)\n",
    "fig.scale_bar = None\n",
    "fig.show(width=500, height=400)"
   ]
  },
  {
   "cell_type": "markdown",
   "metadata": {},
   "source": [
    "## Change the placement of support text\n",
    "\n",
    "The support text is positioned relative to the `x`, `y` coordinates of the tree node. Control over support text placement is achieved using the `support_xshift` and `support_yshift` attributes. These are expressed in terms of pixels.\n",
    "\n",
    "To place the support text internal to the node, we set the yshift=0 (so at the same y-value of the node) and xshift it to the right using a positive integer."
   ]
  },
  {
   "cell_type": "code",
   "execution_count": 2,
   "metadata": {},
   "outputs": [
    {
     "data": {
      "text/html": [
       "        <script type=\"text/javascript\">\n",
       "        window.PlotlyConfig = {MathJaxConfig: 'local'};\n",
       "        if (window.MathJax) {MathJax.Hub.Config({SVG: {font: \"STIX-Web\"}});}\n",
       "        if (typeof require !== 'undefined') {\n",
       "        require.undef(\"plotly\");\n",
       "        requirejs.config({\n",
       "            paths: {\n",
       "                'plotly': ['https://cdn.plot.ly/plotly-latest.min']\n",
       "            }\n",
       "        });\n",
       "        require(['plotly'], function(Plotly) {\n",
       "            window._Plotly = Plotly;\n",
       "        });\n",
       "        }\n",
       "        </script>\n",
       "        "
      ]
     },
     "metadata": {},
     "output_type": "display_data"
    },
    {
     "data": {
      "application/vnd.plotly.v1+json": {
       "config": {
        "plotlyServerURL": "https://plot.ly"
       },
       "data": [
        {
         "line": {
          "color": "black",
          "shape": "spline",
          "smoothing": 1.3,
          "width": 1.25
         },
         "mode": "lines",
         "showlegend": false,
         "type": "scatter",
         "x": [
          null,
          null,
          0,
          0,
          null,
          0,
          0.0016635914678559442,
          null,
          0.0016635914678559442,
          0.0016635914678559442,
          null,
          0.0016635914678559442,
          0.005369545277741107,
          null,
          0.005369545277741107,
          0.005369545277741107,
          null,
          0.005369545277741107,
          0.031153370343094598,
          null,
          0.031153370343094598,
          0.031153370343094598,
          null,
          0.031153370343094598,
          0.08631195081779765,
          null,
          0.031153370343094598,
          0.031153370343094598,
          null,
          0.031153370343094598,
          0.11372226606590709,
          null,
          0.005369545277741107,
          0.005369545277741107,
          null,
          0.005369545277741107,
          0.07956551945410295,
          null,
          0.0016635914678559442,
          0.0016635914678559442,
          null,
          0.0016635914678559442,
          0.014656744829611266,
          null,
          0.014656744829611266,
          0.014656744829611266,
          null,
          0.014656744829611266,
          0.048499823687140065,
          null,
          0.014656744829611266,
          0.014656744829611266,
          null,
          0.014656744829611266,
          0.058183439825163115,
          null,
          0,
          0,
          null,
          0,
          0.001987169996462769,
          null,
          0.001987169996462769,
          0.001987169996462769,
          null,
          0.001987169996462769,
          0.02054537383090987,
          null,
          0.02054537383090987,
          0.02054537383090987,
          null,
          0.02054537383090987,
          0.025261259625981795,
          null,
          0.025261259625981795,
          0.025261259625981795,
          null,
          0.025261259625981795,
          0.0333020198570895,
          null,
          0.0333020198570895,
          0.0333020198570895,
          null,
          0.0333020198570895,
          0.03681450578997773,
          null,
          0.03681450578997773,
          0.03681450578997773,
          null,
          0.03681450578997773,
          0.059591157700027056,
          null,
          0.059591157700027056,
          0.059591157700027056,
          null,
          0.059591157700027056,
          0.07066369595496988,
          null,
          0.059591157700027056,
          0.059591157700027056,
          null,
          0.059591157700027056,
          0.07465626505796832,
          null,
          0.03681450578997773,
          0.03681450578997773,
          null,
          0.03681450578997773,
          0.08741296114249245,
          null,
          0.0333020198570895,
          0.0333020198570895,
          null,
          0.0333020198570895,
          0.11702881314270744,
          null,
          0.025261259625981795,
          0.025261259625981795,
          null,
          0.025261259625981795,
          0.09953929051305313,
          null,
          0.02054537383090987,
          0.02054537383090987,
          null,
          0.02054537383090987,
          0.07899050274522948,
          null,
          0.001987169996462769,
          0.001987169996462769,
          null,
          0.001987169996462769,
          0.12245874195312466,
          null,
          0,
          0,
          null,
          0,
          0.011357615613402238,
          null,
          0.011357615613402238,
          0.011357615613402238,
          null,
          0.011357615613402238,
          0.014781839705895783,
          null,
          0.014781839705895783,
          0.014781839705895783,
          null,
          0.014781839705895783,
          0.025442025128467643,
          null,
          0.025442025128467643,
          0.025442025128467643,
          null,
          0.025442025128467643,
          0.030395867088245262,
          null,
          0.030395867088245262,
          0.030395867088245262,
          null,
          0.030395867088245262,
          0.08717485111392888,
          null,
          0.030395867088245262,
          0.030395867088245262,
          null,
          0.030395867088245262,
          0.20906726393108255,
          null,
          0.025442025128467643,
          0.025442025128467643,
          null,
          0.025442025128467643,
          0.034272101380184446,
          null,
          0.034272101380184446,
          0.034272101380184446,
          null,
          0.034272101380184446,
          0.07334674212490472,
          null,
          0.034272101380184446,
          0.034272101380184446,
          null,
          0.034272101380184446,
          0.0873227799527246,
          null,
          0.014781839705895783,
          0.014781839705895783,
          null,
          0.014781839705895783,
          0.06090021381372198,
          null,
          0.06090021381372198,
          0.06090021381372198,
          null,
          0.06090021381372198,
          0.07887378276114326,
          null,
          0.06090021381372198,
          0.06090021381372198,
          null,
          0.06090021381372198,
          0.09681516616874367,
          null,
          0.011357615613402238,
          0.011357615613402238,
          null,
          0.011357615613402238,
          0.017892621141320973,
          null,
          0.017892621141320973,
          0.017892621141320973,
          null,
          0.017892621141320973,
          0.0766458813943752,
          null,
          0.017892621141320973,
          0.017892621141320973,
          null,
          0.017892621141320973,
          0.08547259739006041,
          null
         ],
         "y": [
          null,
          null,
          -0.6703125000000001,
          9.2625,
          null,
          9.2625,
          9.2625,
          null,
          9.2625,
          10.725,
          null,
          10.725,
          10.725,
          null,
          10.725,
          11.7,
          null,
          11.7,
          11.7,
          null,
          11.7,
          12.35,
          null,
          12.35,
          12.35,
          null,
          11.7,
          11.05,
          null,
          11.05,
          11.05,
          null,
          10.725,
          9.75,
          null,
          9.75,
          9.75,
          null,
          9.2625,
          7.800000000000001,
          null,
          7.800000000000001,
          7.800000000000001,
          null,
          7.800000000000001,
          8.450000000000001,
          null,
          8.450000000000001,
          8.450000000000001,
          null,
          7.800000000000001,
          7.15,
          null,
          7.15,
          7.15,
          null,
          -0.6703125000000001,
          -0.6703125000000001,
          null,
          -0.6703125000000001,
          -0.6703125000000001,
          null,
          -0.6703125000000001,
          0.609375,
          null,
          0.609375,
          0.609375,
          null,
          0.609375,
          1.86875,
          null,
          1.86875,
          1.86875,
          null,
          1.86875,
          3.0875,
          null,
          3.0875,
          3.0875,
          null,
          3.0875,
          4.225,
          null,
          4.225,
          4.225,
          null,
          4.225,
          5.2,
          null,
          5.2,
          5.2,
          null,
          5.2,
          5.8500000000000005,
          null,
          5.8500000000000005,
          5.8500000000000005,
          null,
          5.2,
          4.55,
          null,
          4.55,
          4.55,
          null,
          4.225,
          3.25,
          null,
          3.25,
          3.25,
          null,
          3.0875,
          1.9500000000000002,
          null,
          1.9500000000000002,
          1.9500000000000002,
          null,
          1.86875,
          0.65,
          null,
          0.65,
          0.65,
          null,
          0.609375,
          -0.65,
          null,
          -0.65,
          -0.65,
          null,
          -0.6703125000000001,
          -1.9500000000000002,
          null,
          -1.9500000000000002,
          -1.9500000000000002,
          null,
          -0.6703125000000001,
          -9.425,
          null,
          -9.425,
          -9.425,
          null,
          -9.425,
          -7.15,
          null,
          -7.15,
          -7.15,
          null,
          -7.15,
          -5.2,
          null,
          -5.2,
          -5.2,
          null,
          -5.2,
          -3.9,
          null,
          -3.9,
          -3.9,
          null,
          -3.9,
          -3.25,
          null,
          -3.25,
          -3.25,
          null,
          -3.9,
          -4.55,
          null,
          -4.55,
          -4.55,
          null,
          -5.2,
          -6.5,
          null,
          -6.5,
          -6.5,
          null,
          -6.5,
          -5.8500000000000005,
          null,
          -5.8500000000000005,
          -5.8500000000000005,
          null,
          -6.5,
          -7.15,
          null,
          -7.15,
          -7.15,
          null,
          -7.15,
          -9.100000000000001,
          null,
          -9.100000000000001,
          -9.100000000000001,
          null,
          -9.100000000000001,
          -8.450000000000001,
          null,
          -8.450000000000001,
          -8.450000000000001,
          null,
          -9.100000000000001,
          -9.75,
          null,
          -9.75,
          -9.75,
          null,
          -9.425,
          -11.7,
          null,
          -11.7,
          -11.7,
          null,
          -11.7,
          -11.05,
          null,
          -11.05,
          -11.05,
          null,
          -11.7,
          -12.35,
          null,
          -12.35,
          -12.35,
          null
         ]
        },
        {
         "hoverinfo": "text",
         "marker": {
          "color": "black",
          "size": 3,
          "symbol": "circle"
         },
         "mode": "markers",
         "showlegend": false,
         "text": [
          "root",
          "edge.16",
          "edge.14",
          "edge.6",
          "Cat",
          "Dog",
          "Pangolin",
          "edge.7",
          "Rhino",
          "Horse",
          "edge.15",
          "edge.2",
          "edge.10",
          "edge.1",
          "edge.13",
          "edge.0",
          "HumpbackW",
          "SpermWhale",
          "Hippo",
          "Cow",
          "Pig",
          "Llama",
          "Mole",
          "edge.5",
          "edge.11",
          "edge.3",
          "edge.12",
          "TombBat",
          "RoundEare",
          "edge.9",
          "FreeTaile",
          "LittleBro",
          "edge.4",
          "FlyingFox",
          "DogFaced",
          "edge.8",
          "LeafNose",
          "FalseVamp"
         ],
         "type": "scatter",
         "x": [
          0,
          0.0016635914678559442,
          0.005369545277741107,
          0.031153370343094598,
          0.08631195081779765,
          0.11372226606590709,
          0.07956551945410295,
          0.014656744829611266,
          0.048499823687140065,
          0.058183439825163115,
          0.001987169996462769,
          0.02054537383090987,
          0.025261259625981795,
          0.0333020198570895,
          0.03681450578997773,
          0.059591157700027056,
          0.07066369595496988,
          0.07465626505796832,
          0.08741296114249245,
          0.11702881314270744,
          0.09953929051305313,
          0.07899050274522948,
          0.12245874195312466,
          0.011357615613402238,
          0.014781839705895783,
          0.025442025128467643,
          0.030395867088245262,
          0.08717485111392888,
          0.20906726393108255,
          0.034272101380184446,
          0.07334674212490472,
          0.0873227799527246,
          0.06090021381372198,
          0.07887378276114326,
          0.09681516616874367,
          0.017892621141320973,
          0.0766458813943752,
          0.08547259739006041
         ],
         "y": [
          -0.6703125000000001,
          9.2625,
          10.725,
          11.7,
          12.35,
          11.05,
          9.75,
          7.800000000000001,
          8.450000000000001,
          7.15,
          -0.6703125000000001,
          0.609375,
          1.86875,
          3.0875,
          4.225,
          5.2,
          5.8500000000000005,
          4.55,
          3.25,
          1.9500000000000002,
          0.65,
          -0.65,
          -1.9500000000000002,
          -9.425,
          -7.15,
          -5.2,
          -3.9,
          -3.25,
          -4.55,
          -6.5,
          -5.8500000000000005,
          -7.15,
          -9.100000000000001,
          -8.450000000000001,
          -9.75,
          -11.7,
          -11.05,
          -12.35
         ]
        }
       ],
       "layout": {
        "annotations": [
         {
          "font": {
           "family": "Inconsolata, monospace",
           "size": 12
          },
          "showarrow": false,
          "text": "Cat",
          "textangle": 0,
          "x": 0.09153863241607471,
          "xanchor": "left",
          "xref": "x",
          "y": 12.35,
          "yref": "y"
         },
         {
          "font": {
           "family": "Inconsolata, monospace",
           "size": 12
          },
          "showarrow": false,
          "text": "Dog",
          "textangle": 0,
          "x": 0.11894894766418415,
          "xanchor": "left",
          "xref": "x",
          "y": 11.05,
          "yref": "y"
         },
         {
          "font": {
           "family": "Inconsolata, monospace",
           "size": 12
          },
          "showarrow": false,
          "text": "Pangolin",
          "textangle": 0,
          "x": 0.08479220105238001,
          "xanchor": "left",
          "xref": "x",
          "y": 9.75,
          "yref": "y"
         },
         {
          "font": {
           "family": "Inconsolata, monospace",
           "size": 12
          },
          "showarrow": false,
          "text": "Rhino",
          "textangle": 0,
          "x": 0.05372650528541713,
          "xanchor": "left",
          "xref": "x",
          "y": 8.450000000000001,
          "yref": "y"
         },
         {
          "font": {
           "family": "Inconsolata, monospace",
           "size": 12
          },
          "showarrow": false,
          "text": "Horse",
          "textangle": 0,
          "x": 0.06341012142344019,
          "xanchor": "left",
          "xref": "x",
          "y": 7.15,
          "yref": "y"
         },
         {
          "font": {
           "family": "Inconsolata, monospace",
           "size": 12
          },
          "showarrow": false,
          "text": "HumpbackW",
          "textangle": 0,
          "x": 0.07589037755324694,
          "xanchor": "left",
          "xref": "x",
          "y": 5.8500000000000005,
          "yref": "y"
         },
         {
          "font": {
           "family": "Inconsolata, monospace",
           "size": 12
          },
          "showarrow": false,
          "text": "SpermWhale",
          "textangle": 0,
          "x": 0.07988294665624539,
          "xanchor": "left",
          "xref": "x",
          "y": 4.55,
          "yref": "y"
         },
         {
          "font": {
           "family": "Inconsolata, monospace",
           "size": 12
          },
          "showarrow": false,
          "text": "Hippo",
          "textangle": 0,
          "x": 0.09263964274076951,
          "xanchor": "left",
          "xref": "x",
          "y": 3.25,
          "yref": "y"
         },
         {
          "font": {
           "family": "Inconsolata, monospace",
           "size": 12
          },
          "showarrow": false,
          "text": "Cow",
          "textangle": 0,
          "x": 0.1222554947409845,
          "xanchor": "left",
          "xref": "x",
          "y": 1.9500000000000002,
          "yref": "y"
         },
         {
          "font": {
           "family": "Inconsolata, monospace",
           "size": 12
          },
          "showarrow": false,
          "text": "Pig",
          "textangle": 0,
          "x": 0.1047659721113302,
          "xanchor": "left",
          "xref": "x",
          "y": 0.65,
          "yref": "y"
         },
         {
          "font": {
           "family": "Inconsolata, monospace",
           "size": 12
          },
          "showarrow": false,
          "text": "Llama",
          "textangle": 0,
          "x": 0.08421718434350654,
          "xanchor": "left",
          "xref": "x",
          "y": -0.65,
          "yref": "y"
         },
         {
          "font": {
           "family": "Inconsolata, monospace",
           "size": 12
          },
          "showarrow": false,
          "text": "Mole",
          "textangle": 0,
          "x": 0.12768542355140172,
          "xanchor": "left",
          "xref": "x",
          "y": -1.9500000000000002,
          "yref": "y"
         },
         {
          "font": {
           "family": "Inconsolata, monospace",
           "size": 12
          },
          "showarrow": false,
          "text": "TombBat",
          "textangle": 0,
          "x": 0.09240153271220594,
          "xanchor": "left",
          "xref": "x",
          "y": -3.25,
          "yref": "y"
         },
         {
          "font": {
           "family": "Inconsolata, monospace",
           "size": 12
          },
          "showarrow": false,
          "text": "RoundEare",
          "textangle": 0,
          "x": 0.2142939455293596,
          "xanchor": "left",
          "xref": "x",
          "y": -4.55,
          "yref": "y"
         },
         {
          "font": {
           "family": "Inconsolata, monospace",
           "size": 12
          },
          "showarrow": false,
          "text": "FreeTaile",
          "textangle": 0,
          "x": 0.07857342372318178,
          "xanchor": "left",
          "xref": "x",
          "y": -5.8500000000000005,
          "yref": "y"
         },
         {
          "font": {
           "family": "Inconsolata, monospace",
           "size": 12
          },
          "showarrow": false,
          "text": "LittleBro",
          "textangle": 0,
          "x": 0.09254946155100166,
          "xanchor": "left",
          "xref": "x",
          "y": -7.15,
          "yref": "y"
         },
         {
          "font": {
           "family": "Inconsolata, monospace",
           "size": 12
          },
          "showarrow": false,
          "text": "FlyingFox",
          "textangle": 0,
          "x": 0.08410046435942033,
          "xanchor": "left",
          "xref": "x",
          "y": -8.450000000000001,
          "yref": "y"
         },
         {
          "font": {
           "family": "Inconsolata, monospace",
           "size": 12
          },
          "showarrow": false,
          "text": "DogFaced",
          "textangle": 0,
          "x": 0.10204184776702073,
          "xanchor": "left",
          "xref": "x",
          "y": -9.75,
          "yref": "y"
         },
         {
          "font": {
           "family": "Inconsolata, monospace",
           "size": 12
          },
          "showarrow": false,
          "text": "LeafNose",
          "textangle": 0,
          "x": 0.08187256299265226,
          "xanchor": "left",
          "xref": "x",
          "y": -11.05,
          "yref": "y"
         },
         {
          "font": {
           "family": "Inconsolata, monospace",
           "size": 12
          },
          "showarrow": false,
          "text": "FalseVamp",
          "textangle": 0,
          "x": 0.09069927898833748,
          "xanchor": "left",
          "xref": "x",
          "y": -12.35,
          "yref": "y"
         },
         {
          "font": {
           "family": "Inconsolata, monospace",
           "size": 12
          },
          "showarrow": false,
          "text": "0.24",
          "textangle": 0,
          "x": 0.0016635914678559442,
          "xanchor": "center",
          "xref": "x",
          "xshift": 15,
          "y": 9.2625,
          "yref": "y",
          "yshift": 0
         },
         {
          "font": {
           "family": "Inconsolata, monospace",
           "size": 12
          },
          "showarrow": false,
          "text": "0.70",
          "textangle": 0,
          "x": 0.005369545277741107,
          "xanchor": "center",
          "xref": "x",
          "xshift": 15,
          "y": 10.725,
          "yref": "y",
          "yshift": 0
         },
         {
          "font": {
           "family": "Inconsolata, monospace",
           "size": 12
          },
          "showarrow": false,
          "text": "0.29",
          "textangle": 0,
          "x": 0.001987169996462769,
          "xanchor": "center",
          "xref": "x",
          "xshift": 15,
          "y": -0.6703125000000001,
          "yref": "y",
          "yshift": 0
         },
         {
          "font": {
           "family": "Inconsolata, monospace",
           "size": 12
          },
          "showarrow": false,
          "text": "0.75",
          "textangle": 0,
          "x": 0.03681450578997773,
          "xanchor": "center",
          "xref": "x",
          "xshift": 15,
          "y": 4.225,
          "yref": "y",
          "yshift": 0
         },
         {
          "font": {
           "family": "Inconsolata, monospace",
           "size": 12
          },
          "showarrow": false,
          "text": "0.76",
          "textangle": 0,
          "x": 0.030395867088245262,
          "xanchor": "center",
          "xref": "x",
          "xshift": 15,
          "y": -3.9,
          "yref": "y",
          "yshift": 0
         }
        ],
        "autosize": true,
        "font": {
         "family": "Balto",
         "size": 14
        },
        "height": 400,
        "hovermode": "closest",
        "margin": {
         "b": 50,
         "l": 50,
         "pad": 4,
         "r": 50,
         "t": 50
        },
        "showlegend": false,
        "template": {
         "data": {
          "bar": [
           {
            "error_x": {
             "color": "#2a3f5f"
            },
            "error_y": {
             "color": "#2a3f5f"
            },
            "marker": {
             "line": {
              "color": "#E5ECF6",
              "width": 0.5
             }
            },
            "type": "bar"
           }
          ],
          "barpolar": [
           {
            "marker": {
             "line": {
              "color": "#E5ECF6",
              "width": 0.5
             }
            },
            "type": "barpolar"
           }
          ],
          "carpet": [
           {
            "aaxis": {
             "endlinecolor": "#2a3f5f",
             "gridcolor": "white",
             "linecolor": "white",
             "minorgridcolor": "white",
             "startlinecolor": "#2a3f5f"
            },
            "baxis": {
             "endlinecolor": "#2a3f5f",
             "gridcolor": "white",
             "linecolor": "white",
             "minorgridcolor": "white",
             "startlinecolor": "#2a3f5f"
            },
            "type": "carpet"
           }
          ],
          "choropleth": [
           {
            "colorbar": {
             "outlinewidth": 0,
             "ticks": ""
            },
            "type": "choropleth"
           }
          ],
          "contour": [
           {
            "colorbar": {
             "outlinewidth": 0,
             "ticks": ""
            },
            "colorscale": [
             [
              0,
              "#0d0887"
             ],
             [
              0.1111111111111111,
              "#46039f"
             ],
             [
              0.2222222222222222,
              "#7201a8"
             ],
             [
              0.3333333333333333,
              "#9c179e"
             ],
             [
              0.4444444444444444,
              "#bd3786"
             ],
             [
              0.5555555555555556,
              "#d8576b"
             ],
             [
              0.6666666666666666,
              "#ed7953"
             ],
             [
              0.7777777777777778,
              "#fb9f3a"
             ],
             [
              0.8888888888888888,
              "#fdca26"
             ],
             [
              1,
              "#f0f921"
             ]
            ],
            "type": "contour"
           }
          ],
          "contourcarpet": [
           {
            "colorbar": {
             "outlinewidth": 0,
             "ticks": ""
            },
            "type": "contourcarpet"
           }
          ],
          "heatmap": [
           {
            "colorbar": {
             "outlinewidth": 0,
             "ticks": ""
            },
            "colorscale": [
             [
              0,
              "#0d0887"
             ],
             [
              0.1111111111111111,
              "#46039f"
             ],
             [
              0.2222222222222222,
              "#7201a8"
             ],
             [
              0.3333333333333333,
              "#9c179e"
             ],
             [
              0.4444444444444444,
              "#bd3786"
             ],
             [
              0.5555555555555556,
              "#d8576b"
             ],
             [
              0.6666666666666666,
              "#ed7953"
             ],
             [
              0.7777777777777778,
              "#fb9f3a"
             ],
             [
              0.8888888888888888,
              "#fdca26"
             ],
             [
              1,
              "#f0f921"
             ]
            ],
            "type": "heatmap"
           }
          ],
          "heatmapgl": [
           {
            "colorbar": {
             "outlinewidth": 0,
             "ticks": ""
            },
            "colorscale": [
             [
              0,
              "#0d0887"
             ],
             [
              0.1111111111111111,
              "#46039f"
             ],
             [
              0.2222222222222222,
              "#7201a8"
             ],
             [
              0.3333333333333333,
              "#9c179e"
             ],
             [
              0.4444444444444444,
              "#bd3786"
             ],
             [
              0.5555555555555556,
              "#d8576b"
             ],
             [
              0.6666666666666666,
              "#ed7953"
             ],
             [
              0.7777777777777778,
              "#fb9f3a"
             ],
             [
              0.8888888888888888,
              "#fdca26"
             ],
             [
              1,
              "#f0f921"
             ]
            ],
            "type": "heatmapgl"
           }
          ],
          "histogram": [
           {
            "marker": {
             "colorbar": {
              "outlinewidth": 0,
              "ticks": ""
             }
            },
            "type": "histogram"
           }
          ],
          "histogram2d": [
           {
            "colorbar": {
             "outlinewidth": 0,
             "ticks": ""
            },
            "colorscale": [
             [
              0,
              "#0d0887"
             ],
             [
              0.1111111111111111,
              "#46039f"
             ],
             [
              0.2222222222222222,
              "#7201a8"
             ],
             [
              0.3333333333333333,
              "#9c179e"
             ],
             [
              0.4444444444444444,
              "#bd3786"
             ],
             [
              0.5555555555555556,
              "#d8576b"
             ],
             [
              0.6666666666666666,
              "#ed7953"
             ],
             [
              0.7777777777777778,
              "#fb9f3a"
             ],
             [
              0.8888888888888888,
              "#fdca26"
             ],
             [
              1,
              "#f0f921"
             ]
            ],
            "type": "histogram2d"
           }
          ],
          "histogram2dcontour": [
           {
            "colorbar": {
             "outlinewidth": 0,
             "ticks": ""
            },
            "colorscale": [
             [
              0,
              "#0d0887"
             ],
             [
              0.1111111111111111,
              "#46039f"
             ],
             [
              0.2222222222222222,
              "#7201a8"
             ],
             [
              0.3333333333333333,
              "#9c179e"
             ],
             [
              0.4444444444444444,
              "#bd3786"
             ],
             [
              0.5555555555555556,
              "#d8576b"
             ],
             [
              0.6666666666666666,
              "#ed7953"
             ],
             [
              0.7777777777777778,
              "#fb9f3a"
             ],
             [
              0.8888888888888888,
              "#fdca26"
             ],
             [
              1,
              "#f0f921"
             ]
            ],
            "type": "histogram2dcontour"
           }
          ],
          "mesh3d": [
           {
            "colorbar": {
             "outlinewidth": 0,
             "ticks": ""
            },
            "type": "mesh3d"
           }
          ],
          "parcoords": [
           {
            "line": {
             "colorbar": {
              "outlinewidth": 0,
              "ticks": ""
             }
            },
            "type": "parcoords"
           }
          ],
          "scatter": [
           {
            "marker": {
             "colorbar": {
              "outlinewidth": 0,
              "ticks": ""
             }
            },
            "type": "scatter"
           }
          ],
          "scatter3d": [
           {
            "line": {
             "colorbar": {
              "outlinewidth": 0,
              "ticks": ""
             }
            },
            "marker": {
             "colorbar": {
              "outlinewidth": 0,
              "ticks": ""
             }
            },
            "type": "scatter3d"
           }
          ],
          "scattercarpet": [
           {
            "marker": {
             "colorbar": {
              "outlinewidth": 0,
              "ticks": ""
             }
            },
            "type": "scattercarpet"
           }
          ],
          "scattergeo": [
           {
            "marker": {
             "colorbar": {
              "outlinewidth": 0,
              "ticks": ""
             }
            },
            "type": "scattergeo"
           }
          ],
          "scattergl": [
           {
            "marker": {
             "colorbar": {
              "outlinewidth": 0,
              "ticks": ""
             }
            },
            "type": "scattergl"
           }
          ],
          "scattermapbox": [
           {
            "marker": {
             "colorbar": {
              "outlinewidth": 0,
              "ticks": ""
             }
            },
            "type": "scattermapbox"
           }
          ],
          "scatterpolar": [
           {
            "marker": {
             "colorbar": {
              "outlinewidth": 0,
              "ticks": ""
             }
            },
            "type": "scatterpolar"
           }
          ],
          "scatterpolargl": [
           {
            "marker": {
             "colorbar": {
              "outlinewidth": 0,
              "ticks": ""
             }
            },
            "type": "scatterpolargl"
           }
          ],
          "scatterternary": [
           {
            "marker": {
             "colorbar": {
              "outlinewidth": 0,
              "ticks": ""
             }
            },
            "type": "scatterternary"
           }
          ],
          "surface": [
           {
            "colorbar": {
             "outlinewidth": 0,
             "ticks": ""
            },
            "colorscale": [
             [
              0,
              "#0d0887"
             ],
             [
              0.1111111111111111,
              "#46039f"
             ],
             [
              0.2222222222222222,
              "#7201a8"
             ],
             [
              0.3333333333333333,
              "#9c179e"
             ],
             [
              0.4444444444444444,
              "#bd3786"
             ],
             [
              0.5555555555555556,
              "#d8576b"
             ],
             [
              0.6666666666666666,
              "#ed7953"
             ],
             [
              0.7777777777777778,
              "#fb9f3a"
             ],
             [
              0.8888888888888888,
              "#fdca26"
             ],
             [
              1,
              "#f0f921"
             ]
            ],
            "type": "surface"
           }
          ],
          "table": [
           {
            "cells": {
             "fill": {
              "color": "#EBF0F8"
             },
             "line": {
              "color": "white"
             }
            },
            "header": {
             "fill": {
              "color": "#C8D4E3"
             },
             "line": {
              "color": "white"
             }
            },
            "type": "table"
           }
          ]
         },
         "layout": {
          "annotationdefaults": {
           "arrowcolor": "#2a3f5f",
           "arrowhead": 0,
           "arrowwidth": 1
          },
          "colorscale": {
           "diverging": [
            [
             0,
             "#8e0152"
            ],
            [
             0.1,
             "#c51b7d"
            ],
            [
             0.2,
             "#de77ae"
            ],
            [
             0.3,
             "#f1b6da"
            ],
            [
             0.4,
             "#fde0ef"
            ],
            [
             0.5,
             "#f7f7f7"
            ],
            [
             0.6,
             "#e6f5d0"
            ],
            [
             0.7,
             "#b8e186"
            ],
            [
             0.8,
             "#7fbc41"
            ],
            [
             0.9,
             "#4d9221"
            ],
            [
             1,
             "#276419"
            ]
           ],
           "sequential": [
            [
             0,
             "#0d0887"
            ],
            [
             0.1111111111111111,
             "#46039f"
            ],
            [
             0.2222222222222222,
             "#7201a8"
            ],
            [
             0.3333333333333333,
             "#9c179e"
            ],
            [
             0.4444444444444444,
             "#bd3786"
            ],
            [
             0.5555555555555556,
             "#d8576b"
            ],
            [
             0.6666666666666666,
             "#ed7953"
            ],
            [
             0.7777777777777778,
             "#fb9f3a"
            ],
            [
             0.8888888888888888,
             "#fdca26"
            ],
            [
             1,
             "#f0f921"
            ]
           ],
           "sequentialminus": [
            [
             0,
             "#0d0887"
            ],
            [
             0.1111111111111111,
             "#46039f"
            ],
            [
             0.2222222222222222,
             "#7201a8"
            ],
            [
             0.3333333333333333,
             "#9c179e"
            ],
            [
             0.4444444444444444,
             "#bd3786"
            ],
            [
             0.5555555555555556,
             "#d8576b"
            ],
            [
             0.6666666666666666,
             "#ed7953"
            ],
            [
             0.7777777777777778,
             "#fb9f3a"
            ],
            [
             0.8888888888888888,
             "#fdca26"
            ],
            [
             1,
             "#f0f921"
            ]
           ]
          },
          "colorway": [
           "#636efa",
           "#EF553B",
           "#00cc96",
           "#ab63fa",
           "#FFA15A",
           "#19d3f3",
           "#FF6692",
           "#B6E880",
           "#FF97FF",
           "#FECB52"
          ],
          "font": {
           "color": "#2a3f5f"
          },
          "geo": {
           "bgcolor": "white",
           "lakecolor": "white",
           "landcolor": "#E5ECF6",
           "showlakes": true,
           "showland": true,
           "subunitcolor": "white"
          },
          "hoverlabel": {
           "align": "left"
          },
          "hovermode": "closest",
          "mapbox": {
           "style": "light"
          },
          "paper_bgcolor": "white",
          "plot_bgcolor": "#E5ECF6",
          "polar": {
           "angularaxis": {
            "gridcolor": "white",
            "linecolor": "white",
            "ticks": ""
           },
           "bgcolor": "#E5ECF6",
           "radialaxis": {
            "gridcolor": "white",
            "linecolor": "white",
            "ticks": ""
           }
          },
          "scene": {
           "xaxis": {
            "backgroundcolor": "#E5ECF6",
            "gridcolor": "white",
            "gridwidth": 2,
            "linecolor": "white",
            "showbackground": true,
            "ticks": "",
            "zerolinecolor": "white"
           },
           "yaxis": {
            "backgroundcolor": "#E5ECF6",
            "gridcolor": "white",
            "gridwidth": 2,
            "linecolor": "white",
            "showbackground": true,
            "ticks": "",
            "zerolinecolor": "white"
           },
           "zaxis": {
            "backgroundcolor": "#E5ECF6",
            "gridcolor": "white",
            "gridwidth": 2,
            "linecolor": "white",
            "showbackground": true,
            "ticks": "",
            "zerolinecolor": "white"
           }
          },
          "shapedefaults": {
           "line": {
            "color": "#2a3f5f"
           }
          },
          "ternary": {
           "aaxis": {
            "gridcolor": "white",
            "linecolor": "white",
            "ticks": ""
           },
           "baxis": {
            "gridcolor": "white",
            "linecolor": "white",
            "ticks": ""
           },
           "bgcolor": "#E5ECF6",
           "caxis": {
            "gridcolor": "white",
            "linecolor": "white",
            "ticks": ""
           }
          },
          "title": {
           "x": 0.05
          },
          "xaxis": {
           "automargin": true,
           "gridcolor": "white",
           "linecolor": "white",
           "ticks": "",
           "zerolinecolor": "white",
           "zerolinewidth": 2
          },
          "yaxis": {
           "automargin": true,
           "gridcolor": "white",
           "linecolor": "white",
           "ticks": "",
           "zerolinecolor": "white",
           "zerolinewidth": 2
          }
         }
        },
        "width": 500,
        "xaxis": {
         "autorange": true,
         "range": [
          -0.015450660649452259,
          0.25325648108015225
         ],
         "type": "linear",
         "visible": false
        },
        "yaxis": {
         "autorange": true,
         "range": [
          -14.034090909090908,
          14.034090909090908
         ],
         "type": "linear",
         "visible": false
        }
       }
      },
      "image/png": "[encoded data removed]",
      "text/html": [
       "<div>\n",
       "        \n",
       "        \n",
       "            <div id=\"0aa90fde-85c6-4d0f-a418-c40cb4e7498b\" class=\"plotly-graph-div\" style=\"height:400px; width:500px;\"></div>\n",
       "            <script type=\"text/javascript\">\n",
       "                require([\"plotly\"], function(Plotly) {\n",
       "                    window.PLOTLYENV=window.PLOTLYENV || {};\n",
       "                    \n",
       "                if (document.getElementById(\"0aa90fde-85c6-4d0f-a418-c40cb4e7498b\")) {\n",
       "                    Plotly.newPlot(\n",
       "                        '0aa90fde-85c6-4d0f-a418-c40cb4e7498b',\n",
       "                        [{\"line\": {\"color\": \"black\", \"shape\": \"spline\", \"smoothing\": 1.3, \"width\": 1.25}, \"mode\": \"lines\", \"showlegend\": false, \"type\": \"scatter\", \"x\": [null, null, 0, 0, null, 0, 0.0016635914678559442, null, 0.0016635914678559442, 0.0016635914678559442, null, 0.0016635914678559442, 0.005369545277741107, null, 0.005369545277741107, 0.005369545277741107, null, 0.005369545277741107, 0.031153370343094598, null, 0.031153370343094598, 0.031153370343094598, null, 0.031153370343094598, 0.08631195081779765, null, 0.031153370343094598, 0.031153370343094598, null, 0.031153370343094598, 0.11372226606590709, null, 0.005369545277741107, 0.005369545277741107, null, 0.005369545277741107, 0.07956551945410295, null, 0.0016635914678559442, 0.0016635914678559442, null, 0.0016635914678559442, 0.014656744829611266, null, 0.014656744829611266, 0.014656744829611266, null, 0.014656744829611266, 0.048499823687140065, null, 0.014656744829611266, 0.014656744829611266, null, 0.014656744829611266, 0.058183439825163115, null, 0, 0, null, 0, 0.001987169996462769, null, 0.001987169996462769, 0.001987169996462769, null, 0.001987169996462769, 0.02054537383090987, null, 0.02054537383090987, 0.02054537383090987, null, 0.02054537383090987, 0.025261259625981795, null, 0.025261259625981795, 0.025261259625981795, null, 0.025261259625981795, 0.0333020198570895, null, 0.0333020198570895, 0.0333020198570895, null, 0.0333020198570895, 0.03681450578997773, null, 0.03681450578997773, 0.03681450578997773, null, 0.03681450578997773, 0.059591157700027056, null, 0.059591157700027056, 0.059591157700027056, null, 0.059591157700027056, 0.07066369595496988, null, 0.059591157700027056, 0.059591157700027056, null, 0.059591157700027056, 0.07465626505796832, null, 0.03681450578997773, 0.03681450578997773, null, 0.03681450578997773, 0.08741296114249245, null, 0.0333020198570895, 0.0333020198570895, null, 0.0333020198570895, 0.11702881314270744, null, 0.025261259625981795, 0.025261259625981795, null, 0.025261259625981795, 0.09953929051305313, null, 0.02054537383090987, 0.02054537383090987, null, 0.02054537383090987, 0.07899050274522948, null, 0.001987169996462769, 0.001987169996462769, null, 0.001987169996462769, 0.12245874195312466, null, 0, 0, null, 0, 0.011357615613402238, null, 0.011357615613402238, 0.011357615613402238, null, 0.011357615613402238, 0.014781839705895783, null, 0.014781839705895783, 0.014781839705895783, null, 0.014781839705895783, 0.025442025128467643, null, 0.025442025128467643, 0.025442025128467643, null, 0.025442025128467643, 0.030395867088245262, null, 0.030395867088245262, 0.030395867088245262, null, 0.030395867088245262, 0.08717485111392888, null, 0.030395867088245262, 0.030395867088245262, null, 0.030395867088245262, 0.20906726393108255, null, 0.025442025128467643, 0.025442025128467643, null, 0.025442025128467643, 0.034272101380184446, null, 0.034272101380184446, 0.034272101380184446, null, 0.034272101380184446, 0.07334674212490472, null, 0.034272101380184446, 0.034272101380184446, null, 0.034272101380184446, 0.0873227799527246, null, 0.014781839705895783, 0.014781839705895783, null, 0.014781839705895783, 0.06090021381372198, null, 0.06090021381372198, 0.06090021381372198, null, 0.06090021381372198, 0.07887378276114326, null, 0.06090021381372198, 0.06090021381372198, null, 0.06090021381372198, 0.09681516616874367, null, 0.011357615613402238, 0.011357615613402238, null, 0.011357615613402238, 0.017892621141320973, null, 0.017892621141320973, 0.017892621141320973, null, 0.017892621141320973, 0.0766458813943752, null, 0.017892621141320973, 0.017892621141320973, null, 0.017892621141320973, 0.08547259739006041, null], \"y\": [null, null, -0.6703125000000001, 9.2625, null, 9.2625, 9.2625, null, 9.2625, 10.725, null, 10.725, 10.725, null, 10.725, 11.7, null, 11.7, 11.7, null, 11.7, 12.35, null, 12.35, 12.35, null, 11.7, 11.05, null, 11.05, 11.05, null, 10.725, 9.75, null, 9.75, 9.75, null, 9.2625, 7.800000000000001, null, 7.800000000000001, 7.800000000000001, null, 7.800000000000001, 8.450000000000001, null, 8.450000000000001, 8.450000000000001, null, 7.800000000000001, 7.15, null, 7.15, 7.15, null, -0.6703125000000001, -0.6703125000000001, null, -0.6703125000000001, -0.6703125000000001, null, -0.6703125000000001, 0.609375, null, 0.609375, 0.609375, null, 0.609375, 1.86875, null, 1.86875, 1.86875, null, 1.86875, 3.0875, null, 3.0875, 3.0875, null, 3.0875, 4.225, null, 4.225, 4.225, null, 4.225, 5.2, null, 5.2, 5.2, null, 5.2, 5.8500000000000005, null, 5.8500000000000005, 5.8500000000000005, null, 5.2, 4.55, null, 4.55, 4.55, null, 4.225, 3.25, null, 3.25, 3.25, null, 3.0875, 1.9500000000000002, null, 1.9500000000000002, 1.9500000000000002, null, 1.86875, 0.65, null, 0.65, 0.65, null, 0.609375, -0.65, null, -0.65, -0.65, null, -0.6703125000000001, -1.9500000000000002, null, -1.9500000000000002, -1.9500000000000002, null, -0.6703125000000001, -9.425, null, -9.425, -9.425, null, -9.425, -7.15, null, -7.15, -7.15, null, -7.15, -5.2, null, -5.2, -5.2, null, -5.2, -3.9, null, -3.9, -3.9, null, -3.9, -3.25, null, -3.25, -3.25, null, -3.9, -4.55, null, -4.55, -4.55, null, -5.2, -6.5, null, -6.5, -6.5, null, -6.5, -5.8500000000000005, null, -5.8500000000000005, -5.8500000000000005, null, -6.5, -7.15, null, -7.15, -7.15, null, -7.15, -9.100000000000001, null, -9.100000000000001, -9.100000000000001, null, -9.100000000000001, -8.450000000000001, null, -8.450000000000001, -8.450000000000001, null, -9.100000000000001, -9.75, null, -9.75, -9.75, null, -9.425, -11.7, null, -11.7, -11.7, null, -11.7, -11.05, null, -11.05, -11.05, null, -11.7, -12.35, null, -12.35, -12.35, null]}, {\"hoverinfo\": \"text\", \"marker\": {\"color\": \"black\", \"size\": 3, \"symbol\": \"circle\"}, \"mode\": \"markers\", \"showlegend\": false, \"text\": [\"root\", \"edge.16\", \"edge.14\", \"edge.6\", \"Cat\", \"Dog\", \"Pangolin\", \"edge.7\", \"Rhino\", \"Horse\", \"edge.15\", \"edge.2\", \"edge.10\", \"edge.1\", \"edge.13\", \"edge.0\", \"HumpbackW\", \"SpermWhale\", \"Hippo\", \"Cow\", \"Pig\", \"Llama\", \"Mole\", \"edge.5\", \"edge.11\", \"edge.3\", \"edge.12\", \"TombBat\", \"RoundEare\", \"edge.9\", \"FreeTaile\", \"LittleBro\", \"edge.4\", \"FlyingFox\", \"DogFaced\", \"edge.8\", \"LeafNose\", \"FalseVamp\"], \"type\": \"scatter\", \"x\": [0, 0.0016635914678559442, 0.005369545277741107, 0.031153370343094598, 0.08631195081779765, 0.11372226606590709, 0.07956551945410295, 0.014656744829611266, 0.048499823687140065, 0.058183439825163115, 0.001987169996462769, 0.02054537383090987, 0.025261259625981795, 0.0333020198570895, 0.03681450578997773, 0.059591157700027056, 0.07066369595496988, 0.07465626505796832, 0.08741296114249245, 0.11702881314270744, 0.09953929051305313, 0.07899050274522948, 0.12245874195312466, 0.011357615613402238, 0.014781839705895783, 0.025442025128467643, 0.030395867088245262, 0.08717485111392888, 0.20906726393108255, 0.034272101380184446, 0.07334674212490472, 0.0873227799527246, 0.06090021381372198, 0.07887378276114326, 0.09681516616874367, 0.017892621141320973, 0.0766458813943752, 0.08547259739006041], \"y\": [-0.6703125000000001, 9.2625, 10.725, 11.7, 12.35, 11.05, 9.75, 7.800000000000001, 8.450000000000001, 7.15, -0.6703125000000001, 0.609375, 1.86875, 3.0875, 4.225, 5.2, 5.8500000000000005, 4.55, 3.25, 1.9500000000000002, 0.65, -0.65, -1.9500000000000002, -9.425, -7.15, -5.2, -3.9, -3.25, -4.55, -6.5, -5.8500000000000005, -7.15, -9.100000000000001, -8.450000000000001, -9.75, -11.7, -11.05, -12.35]}],\n",
       "                        {\"annotations\": [{\"font\": {\"family\": \"Inconsolata, monospace\", \"size\": 12}, \"showarrow\": false, \"text\": \"Cat\", \"textangle\": 0, \"x\": 0.09153863241607471, \"xanchor\": \"left\", \"xref\": \"x\", \"y\": 12.35, \"yref\": \"y\"}, {\"font\": {\"family\": \"Inconsolata, monospace\", \"size\": 12}, \"showarrow\": false, \"text\": \"Dog\", \"textangle\": 0, \"x\": 0.11894894766418415, \"xanchor\": \"left\", \"xref\": \"x\", \"y\": 11.05, \"yref\": \"y\"}, {\"font\": {\"family\": \"Inconsolata, monospace\", \"size\": 12}, \"showarrow\": false, \"text\": \"Pangolin\", \"textangle\": 0, \"x\": 0.08479220105238001, \"xanchor\": \"left\", \"xref\": \"x\", \"y\": 9.75, \"yref\": \"y\"}, {\"font\": {\"family\": \"Inconsolata, monospace\", \"size\": 12}, \"showarrow\": false, \"text\": \"Rhino\", \"textangle\": 0, \"x\": 0.05372650528541713, \"xanchor\": \"left\", \"xref\": \"x\", \"y\": 8.450000000000001, \"yref\": \"y\"}, {\"font\": {\"family\": \"Inconsolata, monospace\", \"size\": 12}, \"showarrow\": false, \"text\": \"Horse\", \"textangle\": 0, \"x\": 0.06341012142344019, \"xanchor\": \"left\", \"xref\": \"x\", \"y\": 7.15, \"yref\": \"y\"}, {\"font\": {\"family\": \"Inconsolata, monospace\", \"size\": 12}, \"showarrow\": false, \"text\": \"HumpbackW\", \"textangle\": 0, \"x\": 0.07589037755324694, \"xanchor\": \"left\", \"xref\": \"x\", \"y\": 5.8500000000000005, \"yref\": \"y\"}, {\"font\": {\"family\": \"Inconsolata, monospace\", \"size\": 12}, \"showarrow\": false, \"text\": \"SpermWhale\", \"textangle\": 0, \"x\": 0.07988294665624539, \"xanchor\": \"left\", \"xref\": \"x\", \"y\": 4.55, \"yref\": \"y\"}, {\"font\": {\"family\": \"Inconsolata, monospace\", \"size\": 12}, \"showarrow\": false, \"text\": \"Hippo\", \"textangle\": 0, \"x\": 0.09263964274076951, \"xanchor\": \"left\", \"xref\": \"x\", \"y\": 3.25, \"yref\": \"y\"}, {\"font\": {\"family\": \"Inconsolata, monospace\", \"size\": 12}, \"showarrow\": false, \"text\": \"Cow\", \"textangle\": 0, \"x\": 0.1222554947409845, \"xanchor\": \"left\", \"xref\": \"x\", \"y\": 1.9500000000000002, \"yref\": \"y\"}, {\"font\": {\"family\": \"Inconsolata, monospace\", \"size\": 12}, \"showarrow\": false, \"text\": \"Pig\", \"textangle\": 0, \"x\": 0.1047659721113302, \"xanchor\": \"left\", \"xref\": \"x\", \"y\": 0.65, \"yref\": \"y\"}, {\"font\": {\"family\": \"Inconsolata, monospace\", \"size\": 12}, \"showarrow\": false, \"text\": \"Llama\", \"textangle\": 0, \"x\": 0.08421718434350654, \"xanchor\": \"left\", \"xref\": \"x\", \"y\": -0.65, \"yref\": \"y\"}, {\"font\": {\"family\": \"Inconsolata, monospace\", \"size\": 12}, \"showarrow\": false, \"text\": \"Mole\", \"textangle\": 0, \"x\": 0.12768542355140172, \"xanchor\": \"left\", \"xref\": \"x\", \"y\": -1.9500000000000002, \"yref\": \"y\"}, {\"font\": {\"family\": \"Inconsolata, monospace\", \"size\": 12}, \"showarrow\": false, \"text\": \"TombBat\", \"textangle\": 0, \"x\": 0.09240153271220594, \"xanchor\": \"left\", \"xref\": \"x\", \"y\": -3.25, \"yref\": \"y\"}, {\"font\": {\"family\": \"Inconsolata, monospace\", \"size\": 12}, \"showarrow\": false, \"text\": \"RoundEare\", \"textangle\": 0, \"x\": 0.2142939455293596, \"xanchor\": \"left\", \"xref\": \"x\", \"y\": -4.55, \"yref\": \"y\"}, {\"font\": {\"family\": \"Inconsolata, monospace\", \"size\": 12}, \"showarrow\": false, \"text\": \"FreeTaile\", \"textangle\": 0, \"x\": 0.07857342372318178, \"xanchor\": \"left\", \"xref\": \"x\", \"y\": -5.8500000000000005, \"yref\": \"y\"}, {\"font\": {\"family\": \"Inconsolata, monospace\", \"size\": 12}, \"showarrow\": false, \"text\": \"LittleBro\", \"textangle\": 0, \"x\": 0.09254946155100166, \"xanchor\": \"left\", \"xref\": \"x\", \"y\": -7.15, \"yref\": \"y\"}, {\"font\": {\"family\": \"Inconsolata, monospace\", \"size\": 12}, \"showarrow\": false, \"text\": \"FlyingFox\", \"textangle\": 0, \"x\": 0.08410046435942033, \"xanchor\": \"left\", \"xref\": \"x\", \"y\": -8.450000000000001, \"yref\": \"y\"}, {\"font\": {\"family\": \"Inconsolata, monospace\", \"size\": 12}, \"showarrow\": false, \"text\": \"DogFaced\", \"textangle\": 0, \"x\": 0.10204184776702073, \"xanchor\": \"left\", \"xref\": \"x\", \"y\": -9.75, \"yref\": \"y\"}, {\"font\": {\"family\": \"Inconsolata, monospace\", \"size\": 12}, \"showarrow\": false, \"text\": \"LeafNose\", \"textangle\": 0, \"x\": 0.08187256299265226, \"xanchor\": \"left\", \"xref\": \"x\", \"y\": -11.05, \"yref\": \"y\"}, {\"font\": {\"family\": \"Inconsolata, monospace\", \"size\": 12}, \"showarrow\": false, \"text\": \"FalseVamp\", \"textangle\": 0, \"x\": 0.09069927898833748, \"xanchor\": \"left\", \"xref\": \"x\", \"y\": -12.35, \"yref\": \"y\"}, {\"font\": {\"family\": \"Inconsolata, monospace\", \"size\": 12}, \"showarrow\": false, \"text\": \"0.24\", \"textangle\": 0, \"x\": 0.0016635914678559442, \"xanchor\": \"center\", \"xref\": \"x\", \"xshift\": 15, \"y\": 9.2625, \"yref\": \"y\", \"yshift\": 0}, {\"font\": {\"family\": \"Inconsolata, monospace\", \"size\": 12}, \"showarrow\": false, \"text\": \"0.70\", \"textangle\": 0, \"x\": 0.005369545277741107, \"xanchor\": \"center\", \"xref\": \"x\", \"xshift\": 15, \"y\": 10.725, \"yref\": \"y\", \"yshift\": 0}, {\"font\": {\"family\": \"Inconsolata, monospace\", \"size\": 12}, \"showarrow\": false, \"text\": \"0.29\", \"textangle\": 0, \"x\": 0.001987169996462769, \"xanchor\": \"center\", \"xref\": \"x\", \"xshift\": 15, \"y\": -0.6703125000000001, \"yref\": \"y\", \"yshift\": 0}, {\"font\": {\"family\": \"Inconsolata, monospace\", \"size\": 12}, \"showarrow\": false, \"text\": \"0.75\", \"textangle\": 0, \"x\": 0.03681450578997773, \"xanchor\": \"center\", \"xref\": \"x\", \"xshift\": 15, \"y\": 4.225, \"yref\": \"y\", \"yshift\": 0}, {\"font\": {\"family\": \"Inconsolata, monospace\", \"size\": 12}, \"showarrow\": false, \"text\": \"0.76\", \"textangle\": 0, \"x\": 0.030395867088245262, \"xanchor\": \"center\", \"xref\": \"x\", \"xshift\": 15, \"y\": -3.9, \"yref\": \"y\", \"yshift\": 0}], \"autosize\": true, \"font\": {\"family\": \"Balto\", \"size\": 14}, \"height\": 400, \"hovermode\": \"closest\", \"margin\": {\"b\": 50, \"l\": 50, \"pad\": 4, \"r\": 50, \"t\": 50}, \"showlegend\": false, \"template\": {\"data\": {\"bar\": [{\"error_x\": {\"color\": \"#2a3f5f\"}, \"error_y\": {\"color\": \"#2a3f5f\"}, \"marker\": {\"line\": {\"color\": \"#E5ECF6\", \"width\": 0.5}}, \"type\": \"bar\"}], \"barpolar\": [{\"marker\": {\"line\": {\"color\": \"#E5ECF6\", \"width\": 0.5}}, \"type\": \"barpolar\"}], \"carpet\": [{\"aaxis\": {\"endlinecolor\": \"#2a3f5f\", \"gridcolor\": \"white\", \"linecolor\": \"white\", \"minorgridcolor\": \"white\", \"startlinecolor\": \"#2a3f5f\"}, \"baxis\": {\"endlinecolor\": \"#2a3f5f\", \"gridcolor\": \"white\", \"linecolor\": \"white\", \"minorgridcolor\": \"white\", \"startlinecolor\": \"#2a3f5f\"}, \"type\": \"carpet\"}], \"choropleth\": [{\"colorbar\": {\"outlinewidth\": 0, \"ticks\": \"\"}, \"type\": \"choropleth\"}], \"contour\": [{\"colorbar\": {\"outlinewidth\": 0, \"ticks\": \"\"}, \"colorscale\": [[0.0, \"#0d0887\"], [0.1111111111111111, \"#46039f\"], [0.2222222222222222, \"#7201a8\"], [0.3333333333333333, \"#9c179e\"], [0.4444444444444444, \"#bd3786\"], [0.5555555555555556, \"#d8576b\"], [0.6666666666666666, \"#ed7953\"], [0.7777777777777778, \"#fb9f3a\"], [0.8888888888888888, \"#fdca26\"], [1.0, \"#f0f921\"]], \"type\": \"contour\"}], \"contourcarpet\": [{\"colorbar\": {\"outlinewidth\": 0, \"ticks\": \"\"}, \"type\": \"contourcarpet\"}], \"heatmap\": [{\"colorbar\": {\"outlinewidth\": 0, \"ticks\": \"\"}, \"colorscale\": [[0.0, \"#0d0887\"], [0.1111111111111111, \"#46039f\"], [0.2222222222222222, \"#7201a8\"], [0.3333333333333333, \"#9c179e\"], [0.4444444444444444, \"#bd3786\"], [0.5555555555555556, \"#d8576b\"], [0.6666666666666666, \"#ed7953\"], [0.7777777777777778, \"#fb9f3a\"], [0.8888888888888888, \"#fdca26\"], [1.0, \"#f0f921\"]], \"type\": \"heatmap\"}], \"heatmapgl\": [{\"colorbar\": {\"outlinewidth\": 0, \"ticks\": \"\"}, \"colorscale\": [[0.0, \"#0d0887\"], [0.1111111111111111, \"#46039f\"], [0.2222222222222222, \"#7201a8\"], [0.3333333333333333, \"#9c179e\"], [0.4444444444444444, \"#bd3786\"], [0.5555555555555556, \"#d8576b\"], [0.6666666666666666, \"#ed7953\"], [0.7777777777777778, \"#fb9f3a\"], [0.8888888888888888, \"#fdca26\"], [1.0, \"#f0f921\"]], \"type\": \"heatmapgl\"}], \"histogram\": [{\"marker\": {\"colorbar\": {\"outlinewidth\": 0, \"ticks\": \"\"}}, \"type\": \"histogram\"}], \"histogram2d\": [{\"colorbar\": {\"outlinewidth\": 0, \"ticks\": \"\"}, \"colorscale\": [[0.0, \"#0d0887\"], [0.1111111111111111, \"#46039f\"], [0.2222222222222222, \"#7201a8\"], [0.3333333333333333, \"#9c179e\"], [0.4444444444444444, \"#bd3786\"], [0.5555555555555556, \"#d8576b\"], [0.6666666666666666, \"#ed7953\"], [0.7777777777777778, \"#fb9f3a\"], [0.8888888888888888, \"#fdca26\"], [1.0, \"#f0f921\"]], \"type\": \"histogram2d\"}], \"histogram2dcontour\": [{\"colorbar\": {\"outlinewidth\": 0, \"ticks\": \"\"}, \"colorscale\": [[0.0, \"#0d0887\"], [0.1111111111111111, \"#46039f\"], [0.2222222222222222, \"#7201a8\"], [0.3333333333333333, \"#9c179e\"], [0.4444444444444444, \"#bd3786\"], [0.5555555555555556, \"#d8576b\"], [0.6666666666666666, \"#ed7953\"], [0.7777777777777778, \"#fb9f3a\"], [0.8888888888888888, \"#fdca26\"], [1.0, \"#f0f921\"]], \"type\": \"histogram2dcontour\"}], \"mesh3d\": [{\"colorbar\": {\"outlinewidth\": 0, \"ticks\": \"\"}, \"type\": \"mesh3d\"}], \"parcoords\": [{\"line\": {\"colorbar\": {\"outlinewidth\": 0, \"ticks\": \"\"}}, \"type\": \"parcoords\"}], \"scatter\": [{\"marker\": {\"colorbar\": {\"outlinewidth\": 0, \"ticks\": \"\"}}, \"type\": \"scatter\"}], \"scatter3d\": [{\"line\": {\"colorbar\": {\"outlinewidth\": 0, \"ticks\": \"\"}}, \"marker\": {\"colorbar\": {\"outlinewidth\": 0, \"ticks\": \"\"}}, \"type\": \"scatter3d\"}], \"scattercarpet\": [{\"marker\": {\"colorbar\": {\"outlinewidth\": 0, \"ticks\": \"\"}}, \"type\": \"scattercarpet\"}], \"scattergeo\": [{\"marker\": {\"colorbar\": {\"outlinewidth\": 0, \"ticks\": \"\"}}, \"type\": \"scattergeo\"}], \"scattergl\": [{\"marker\": {\"colorbar\": {\"outlinewidth\": 0, \"ticks\": \"\"}}, \"type\": \"scattergl\"}], \"scattermapbox\": [{\"marker\": {\"colorbar\": {\"outlinewidth\": 0, \"ticks\": \"\"}}, \"type\": \"scattermapbox\"}], \"scatterpolar\": [{\"marker\": {\"colorbar\": {\"outlinewidth\": 0, \"ticks\": \"\"}}, \"type\": \"scatterpolar\"}], \"scatterpolargl\": [{\"marker\": {\"colorbar\": {\"outlinewidth\": 0, \"ticks\": \"\"}}, \"type\": \"scatterpolargl\"}], \"scatterternary\": [{\"marker\": {\"colorbar\": {\"outlinewidth\": 0, \"ticks\": \"\"}}, \"type\": \"scatterternary\"}], \"surface\": [{\"colorbar\": {\"outlinewidth\": 0, \"ticks\": \"\"}, \"colorscale\": [[0.0, \"#0d0887\"], [0.1111111111111111, \"#46039f\"], [0.2222222222222222, \"#7201a8\"], [0.3333333333333333, \"#9c179e\"], [0.4444444444444444, \"#bd3786\"], [0.5555555555555556, \"#d8576b\"], [0.6666666666666666, \"#ed7953\"], [0.7777777777777778, \"#fb9f3a\"], [0.8888888888888888, \"#fdca26\"], [1.0, \"#f0f921\"]], \"type\": \"surface\"}], \"table\": [{\"cells\": {\"fill\": {\"color\": \"#EBF0F8\"}, \"line\": {\"color\": \"white\"}}, \"header\": {\"fill\": {\"color\": \"#C8D4E3\"}, \"line\": {\"color\": \"white\"}}, \"type\": \"table\"}]}, \"layout\": {\"annotationdefaults\": {\"arrowcolor\": \"#2a3f5f\", \"arrowhead\": 0, \"arrowwidth\": 1}, \"colorscale\": {\"diverging\": [[0, \"#8e0152\"], [0.1, \"#c51b7d\"], [0.2, \"#de77ae\"], [0.3, \"#f1b6da\"], [0.4, \"#fde0ef\"], [0.5, \"#f7f7f7\"], [0.6, \"#e6f5d0\"], [0.7, \"#b8e186\"], [0.8, \"#7fbc41\"], [0.9, \"#4d9221\"], [1, \"#276419\"]], \"sequential\": [[0.0, \"#0d0887\"], [0.1111111111111111, \"#46039f\"], [0.2222222222222222, \"#7201a8\"], [0.3333333333333333, \"#9c179e\"], [0.4444444444444444, \"#bd3786\"], [0.5555555555555556, \"#d8576b\"], [0.6666666666666666, \"#ed7953\"], [0.7777777777777778, \"#fb9f3a\"], [0.8888888888888888, \"#fdca26\"], [1.0, \"#f0f921\"]], \"sequentialminus\": [[0.0, \"#0d0887\"], [0.1111111111111111, \"#46039f\"], [0.2222222222222222, \"#7201a8\"], [0.3333333333333333, \"#9c179e\"], [0.4444444444444444, \"#bd3786\"], [0.5555555555555556, \"#d8576b\"], [0.6666666666666666, \"#ed7953\"], [0.7777777777777778, \"#fb9f3a\"], [0.8888888888888888, \"#fdca26\"], [1.0, \"#f0f921\"]]}, \"colorway\": [\"#636efa\", \"#EF553B\", \"#00cc96\", \"#ab63fa\", \"#FFA15A\", \"#19d3f3\", \"#FF6692\", \"#B6E880\", \"#FF97FF\", \"#FECB52\"], \"font\": {\"color\": \"#2a3f5f\"}, \"geo\": {\"bgcolor\": \"white\", \"lakecolor\": \"white\", \"landcolor\": \"#E5ECF6\", \"showlakes\": true, \"showland\": true, \"subunitcolor\": \"white\"}, \"hoverlabel\": {\"align\": \"left\"}, \"hovermode\": \"closest\", \"mapbox\": {\"style\": \"light\"}, \"paper_bgcolor\": \"white\", \"plot_bgcolor\": \"#E5ECF6\", \"polar\": {\"angularaxis\": {\"gridcolor\": \"white\", \"linecolor\": \"white\", \"ticks\": \"\"}, \"bgcolor\": \"#E5ECF6\", \"radialaxis\": {\"gridcolor\": \"white\", \"linecolor\": \"white\", \"ticks\": \"\"}}, \"scene\": {\"xaxis\": {\"backgroundcolor\": \"#E5ECF6\", \"gridcolor\": \"white\", \"gridwidth\": 2, \"linecolor\": \"white\", \"showbackground\": true, \"ticks\": \"\", \"zerolinecolor\": \"white\"}, \"yaxis\": {\"backgroundcolor\": \"#E5ECF6\", \"gridcolor\": \"white\", \"gridwidth\": 2, \"linecolor\": \"white\", \"showbackground\": true, \"ticks\": \"\", \"zerolinecolor\": \"white\"}, \"zaxis\": {\"backgroundcolor\": \"#E5ECF6\", \"gridcolor\": \"white\", \"gridwidth\": 2, \"linecolor\": \"white\", \"showbackground\": true, \"ticks\": \"\", \"zerolinecolor\": \"white\"}}, \"shapedefaults\": {\"line\": {\"color\": \"#2a3f5f\"}}, \"ternary\": {\"aaxis\": {\"gridcolor\": \"white\", \"linecolor\": \"white\", \"ticks\": \"\"}, \"baxis\": {\"gridcolor\": \"white\", \"linecolor\": \"white\", \"ticks\": \"\"}, \"bgcolor\": \"#E5ECF6\", \"caxis\": {\"gridcolor\": \"white\", \"linecolor\": \"white\", \"ticks\": \"\"}}, \"title\": {\"x\": 0.05}, \"xaxis\": {\"automargin\": true, \"gridcolor\": \"white\", \"linecolor\": \"white\", \"ticks\": \"\", \"zerolinecolor\": \"white\", \"zerolinewidth\": 2}, \"yaxis\": {\"automargin\": true, \"gridcolor\": \"white\", \"linecolor\": \"white\", \"ticks\": \"\", \"zerolinecolor\": \"white\", \"zerolinewidth\": 2}}}, \"width\": 500, \"xaxis\": {\"visible\": false}, \"yaxis\": {\"visible\": false}},\n",
       "                        {\"responsive\": true}\n",
       "                    ).then(function(){\n",
       "                            \n",
       "var gd = document.getElementById('0aa90fde-85c6-4d0f-a418-c40cb4e7498b');\n",
       "var x = new MutationObserver(function (mutations, observer) {{\n",
       "        var display = window.getComputedStyle(gd).display;\n",
       "        if (!display || display === 'none') {{\n",
       "            console.log([gd, 'removed!']);\n",
       "            Plotly.purge(gd);\n",
       "            observer.disconnect();\n",
       "        }}\n",
       "}});\n",
       "\n",
       "// Listen for the removal of the full notebook cells\n",
       "var notebookContainer = gd.closest('#notebook-container');\n",
       "if (notebookContainer) {{\n",
       "    x.observe(notebookContainer, {childList: true});\n",
       "}}\n",
       "\n",
       "// Listen for the clearing of the current output cell\n",
       "var outputEl = gd.closest('.output');\n",
       "if (outputEl) {{\n",
       "    x.observe(outputEl, {childList: true});\n",
       "}}\n",
       "\n",
       "                        })\n",
       "                };\n",
       "                });\n",
       "            </script>\n",
       "        </div>"
      ]
     },
     "metadata": {},
     "output_type": "display_data"
    }
   ],
   "source": [
    "fig.support_xshift = 15\n",
    "fig.support_yshift = 0\n",
    "fig.show(width=500, height=400)"
   ]
  }
 ],
 "metadata": {
  "kernelspec": {
   "display_name": "Python [conda env:c3dev] *",
   "language": "python",
   "name": "conda-env-c3dev-py"
  },
  "language_info": {
   "codemirror_mode": {
    "name": "ipython",
    "version": 3
   },
   "file_extension": ".py",
   "mimetype": "text/x-python",
   "name": "python",
   "nbconvert_exporter": "python",
   "pygments_lexer": "ipython3",
   "version": "3.7.3"
  },
  "widgets": {
   "application/vnd.jupyter.widget-state+json": {
    "state": {},
    "version_major": 2,
    "version_minor": 0
   }
  }
 },
 "nbformat": 4,
 "nbformat_minor": 4
}
